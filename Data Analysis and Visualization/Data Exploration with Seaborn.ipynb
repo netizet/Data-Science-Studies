{
 "cells": [
  {
   "cell_type": "code",
   "execution_count": 2,
   "metadata": {
    "ExecuteTime": {
     "end_time": "2020-03-31T03:56:17.749257Z",
     "start_time": "2020-03-31T03:56:17.744228Z"
    }
   },
   "outputs": [],
   "source": [
    "import pandas as pd\n",
    "import numpy as np\n",
    "import matplotlib.pyplot as plt\n",
    "import seaborn as sns\n",
    "%matplotlib inline"
   ]
  },
  {
   "cell_type": "code",
   "execution_count": 3,
   "metadata": {
    "ExecuteTime": {
     "end_time": "2020-03-31T03:56:18.402600Z",
     "start_time": "2020-03-31T03:56:17.922485Z"
    }
   },
   "outputs": [],
   "source": [
    "youtube = pd.read_csv('/Users/muhammadramzy/Documents/PWDK/USvideos.csv')"
   ]
  },
  {
   "cell_type": "code",
   "execution_count": 4,
   "metadata": {
    "ExecuteTime": {
     "end_time": "2020-03-31T03:56:18.449067Z",
     "start_time": "2020-03-31T03:56:18.429250Z"
    }
   },
   "outputs": [
    {
     "name": "stdout",
     "output_type": "stream",
     "text": [
      "<class 'pandas.core.frame.DataFrame'>\n",
      "RangeIndex: 40949 entries, 0 to 40948\n",
      "Data columns (total 16 columns):\n",
      "video_id                  40949 non-null object\n",
      "trending_date             40949 non-null object\n",
      "title                     40949 non-null object\n",
      "channel_title             40949 non-null object\n",
      "category_id               40949 non-null int64\n",
      "publish_time              40949 non-null object\n",
      "tags                      40949 non-null object\n",
      "views                     40949 non-null int64\n",
      "likes                     40949 non-null int64\n",
      "dislikes                  40949 non-null int64\n",
      "comment_count             40949 non-null int64\n",
      "thumbnail_link            40949 non-null object\n",
      "comments_disabled         40949 non-null bool\n",
      "ratings_disabled          40949 non-null bool\n",
      "video_error_or_removed    40949 non-null bool\n",
      "description               40379 non-null object\n",
      "dtypes: bool(3), int64(5), object(8)\n",
      "memory usage: 4.2+ MB\n"
     ]
    }
   ],
   "source": [
    "youtube.info()"
   ]
  },
  {
   "cell_type": "code",
   "execution_count": 5,
   "metadata": {
    "ExecuteTime": {
     "end_time": "2020-03-31T03:56:18.487106Z",
     "start_time": "2020-03-31T03:56:18.473890Z"
    }
   },
   "outputs": [
    {
     "data": {
      "text/html": [
       "<div>\n",
       "<style scoped>\n",
       "    .dataframe tbody tr th:only-of-type {\n",
       "        vertical-align: middle;\n",
       "    }\n",
       "\n",
       "    .dataframe tbody tr th {\n",
       "        vertical-align: top;\n",
       "    }\n",
       "\n",
       "    .dataframe thead th {\n",
       "        text-align: right;\n",
       "    }\n",
       "</style>\n",
       "<table border=\"1\" class=\"dataframe\">\n",
       "  <thead>\n",
       "    <tr style=\"text-align: right;\">\n",
       "      <th></th>\n",
       "      <th>video_id</th>\n",
       "      <th>trending_date</th>\n",
       "      <th>title</th>\n",
       "      <th>channel_title</th>\n",
       "      <th>category_id</th>\n",
       "      <th>publish_time</th>\n",
       "      <th>tags</th>\n",
       "      <th>views</th>\n",
       "      <th>likes</th>\n",
       "      <th>dislikes</th>\n",
       "      <th>comment_count</th>\n",
       "      <th>thumbnail_link</th>\n",
       "      <th>comments_disabled</th>\n",
       "      <th>ratings_disabled</th>\n",
       "      <th>video_error_or_removed</th>\n",
       "      <th>description</th>\n",
       "    </tr>\n",
       "  </thead>\n",
       "  <tbody>\n",
       "    <tr>\n",
       "      <td>0</td>\n",
       "      <td>2kyS6SvSYSE</td>\n",
       "      <td>17.14.11</td>\n",
       "      <td>WE WANT TO TALK ABOUT OUR MARRIAGE</td>\n",
       "      <td>CaseyNeistat</td>\n",
       "      <td>22</td>\n",
       "      <td>2017-11-13T17:13:01.000Z</td>\n",
       "      <td>SHANtell martin</td>\n",
       "      <td>748374</td>\n",
       "      <td>57527</td>\n",
       "      <td>2966</td>\n",
       "      <td>15954</td>\n",
       "      <td>https://i.ytimg.com/vi/2kyS6SvSYSE/default.jpg</td>\n",
       "      <td>False</td>\n",
       "      <td>False</td>\n",
       "      <td>False</td>\n",
       "      <td>SHANTELL'S CHANNEL - https://www.youtube.com/s...</td>\n",
       "    </tr>\n",
       "    <tr>\n",
       "      <td>1</td>\n",
       "      <td>1ZAPwfrtAFY</td>\n",
       "      <td>17.14.11</td>\n",
       "      <td>The Trump Presidency: Last Week Tonight with J...</td>\n",
       "      <td>LastWeekTonight</td>\n",
       "      <td>24</td>\n",
       "      <td>2017-11-13T07:30:00.000Z</td>\n",
       "      <td>last week tonight trump presidency|\"last week ...</td>\n",
       "      <td>2418783</td>\n",
       "      <td>97185</td>\n",
       "      <td>6146</td>\n",
       "      <td>12703</td>\n",
       "      <td>https://i.ytimg.com/vi/1ZAPwfrtAFY/default.jpg</td>\n",
       "      <td>False</td>\n",
       "      <td>False</td>\n",
       "      <td>False</td>\n",
       "      <td>One year after the presidential election, John...</td>\n",
       "    </tr>\n",
       "    <tr>\n",
       "      <td>2</td>\n",
       "      <td>5qpjK5DgCt4</td>\n",
       "      <td>17.14.11</td>\n",
       "      <td>Racist Superman | Rudy Mancuso, King Bach &amp; Le...</td>\n",
       "      <td>Rudy Mancuso</td>\n",
       "      <td>23</td>\n",
       "      <td>2017-11-12T19:05:24.000Z</td>\n",
       "      <td>racist superman|\"rudy\"|\"mancuso\"|\"king\"|\"bach\"...</td>\n",
       "      <td>3191434</td>\n",
       "      <td>146033</td>\n",
       "      <td>5339</td>\n",
       "      <td>8181</td>\n",
       "      <td>https://i.ytimg.com/vi/5qpjK5DgCt4/default.jpg</td>\n",
       "      <td>False</td>\n",
       "      <td>False</td>\n",
       "      <td>False</td>\n",
       "      <td>WATCH MY PREVIOUS VIDEO ▶ \\n\\nSUBSCRIBE ► http...</td>\n",
       "    </tr>\n",
       "    <tr>\n",
       "      <td>3</td>\n",
       "      <td>puqaWrEC7tY</td>\n",
       "      <td>17.14.11</td>\n",
       "      <td>Nickelback Lyrics: Real or Fake?</td>\n",
       "      <td>Good Mythical Morning</td>\n",
       "      <td>24</td>\n",
       "      <td>2017-11-13T11:00:04.000Z</td>\n",
       "      <td>rhett and link|\"gmm\"|\"good mythical morning\"|\"...</td>\n",
       "      <td>343168</td>\n",
       "      <td>10172</td>\n",
       "      <td>666</td>\n",
       "      <td>2146</td>\n",
       "      <td>https://i.ytimg.com/vi/puqaWrEC7tY/default.jpg</td>\n",
       "      <td>False</td>\n",
       "      <td>False</td>\n",
       "      <td>False</td>\n",
       "      <td>Today we find out if Link is a Nickelback amat...</td>\n",
       "    </tr>\n",
       "    <tr>\n",
       "      <td>4</td>\n",
       "      <td>d380meD0W0M</td>\n",
       "      <td>17.14.11</td>\n",
       "      <td>I Dare You: GOING BALD!?</td>\n",
       "      <td>nigahiga</td>\n",
       "      <td>24</td>\n",
       "      <td>2017-11-12T18:01:41.000Z</td>\n",
       "      <td>ryan|\"higa\"|\"higatv\"|\"nigahiga\"|\"i dare you\"|\"...</td>\n",
       "      <td>2095731</td>\n",
       "      <td>132235</td>\n",
       "      <td>1989</td>\n",
       "      <td>17518</td>\n",
       "      <td>https://i.ytimg.com/vi/d380meD0W0M/default.jpg</td>\n",
       "      <td>False</td>\n",
       "      <td>False</td>\n",
       "      <td>False</td>\n",
       "      <td>I know it's been a while since we did this sho...</td>\n",
       "    </tr>\n",
       "  </tbody>\n",
       "</table>\n",
       "</div>"
      ],
      "text/plain": [
       "      video_id trending_date  \\\n",
       "0  2kyS6SvSYSE      17.14.11   \n",
       "1  1ZAPwfrtAFY      17.14.11   \n",
       "2  5qpjK5DgCt4      17.14.11   \n",
       "3  puqaWrEC7tY      17.14.11   \n",
       "4  d380meD0W0M      17.14.11   \n",
       "\n",
       "                                               title          channel_title  \\\n",
       "0                 WE WANT TO TALK ABOUT OUR MARRIAGE           CaseyNeistat   \n",
       "1  The Trump Presidency: Last Week Tonight with J...        LastWeekTonight   \n",
       "2  Racist Superman | Rudy Mancuso, King Bach & Le...           Rudy Mancuso   \n",
       "3                   Nickelback Lyrics: Real or Fake?  Good Mythical Morning   \n",
       "4                           I Dare You: GOING BALD!?               nigahiga   \n",
       "\n",
       "   category_id              publish_time  \\\n",
       "0           22  2017-11-13T17:13:01.000Z   \n",
       "1           24  2017-11-13T07:30:00.000Z   \n",
       "2           23  2017-11-12T19:05:24.000Z   \n",
       "3           24  2017-11-13T11:00:04.000Z   \n",
       "4           24  2017-11-12T18:01:41.000Z   \n",
       "\n",
       "                                                tags    views   likes  \\\n",
       "0                                    SHANtell martin   748374   57527   \n",
       "1  last week tonight trump presidency|\"last week ...  2418783   97185   \n",
       "2  racist superman|\"rudy\"|\"mancuso\"|\"king\"|\"bach\"...  3191434  146033   \n",
       "3  rhett and link|\"gmm\"|\"good mythical morning\"|\"...   343168   10172   \n",
       "4  ryan|\"higa\"|\"higatv\"|\"nigahiga\"|\"i dare you\"|\"...  2095731  132235   \n",
       "\n",
       "   dislikes  comment_count                                  thumbnail_link  \\\n",
       "0      2966          15954  https://i.ytimg.com/vi/2kyS6SvSYSE/default.jpg   \n",
       "1      6146          12703  https://i.ytimg.com/vi/1ZAPwfrtAFY/default.jpg   \n",
       "2      5339           8181  https://i.ytimg.com/vi/5qpjK5DgCt4/default.jpg   \n",
       "3       666           2146  https://i.ytimg.com/vi/puqaWrEC7tY/default.jpg   \n",
       "4      1989          17518  https://i.ytimg.com/vi/d380meD0W0M/default.jpg   \n",
       "\n",
       "   comments_disabled  ratings_disabled  video_error_or_removed  \\\n",
       "0              False             False                   False   \n",
       "1              False             False                   False   \n",
       "2              False             False                   False   \n",
       "3              False             False                   False   \n",
       "4              False             False                   False   \n",
       "\n",
       "                                         description  \n",
       "0  SHANTELL'S CHANNEL - https://www.youtube.com/s...  \n",
       "1  One year after the presidential election, John...  \n",
       "2  WATCH MY PREVIOUS VIDEO ▶ \\n\\nSUBSCRIBE ► http...  \n",
       "3  Today we find out if Link is a Nickelback amat...  \n",
       "4  I know it's been a while since we did this sho...  "
      ]
     },
     "execution_count": 5,
     "metadata": {},
     "output_type": "execute_result"
    }
   ],
   "source": [
    "youtube.head()"
   ]
  },
  {
   "cell_type": "code",
   "execution_count": 6,
   "metadata": {
    "ExecuteTime": {
     "end_time": "2020-03-31T03:56:23.945633Z",
     "start_time": "2020-03-31T03:56:23.780478Z"
    }
   },
   "outputs": [
    {
     "data": {
      "image/png": "[encoded data removed]",
      "text/plain": [
       "<Figure size 576x576 with 1 Axes>"
      ]
     },
     "metadata": {
      "needs_background": "light"
     },
     "output_type": "display_data"
    }
   ],
   "source": [
    "#Filtering the data based on the outlier of the likes column\n",
    "Q1_like = youtube['likes'].describe()['25%']\n",
    "Q3_like = youtube['likes'].describe()['75%']\n",
    "IQR = Q3_like - Q1_like\n",
    "\n",
    "plt.figure(figsize = (8,8))\n",
    "sns.distplot(youtube[(youtube['likes'] >= Q1_like - (1.5*IQR)) & (youtube['likes'] <= Q3_like + (1.5 * IQR))]['likes'], hist = False)\n",
    "\n",
    "out_like = youtube[(youtube['likes'] >= Q1_like - (1.5*IQR)) & (youtube['likes'] <= Q3_like + (1.5 * IQR))]['likes'].index"
   ]
  },
  {
   "cell_type": "code",
   "execution_count": 7,
   "metadata": {
    "ExecuteTime": {
     "end_time": "2020-03-31T03:49:12.020182Z",
     "start_time": "2020-03-31T03:49:12.017207Z"
    }
   },
   "outputs": [],
   "source": [
    "#Change to datetime. Figure out how to get the day difference"
   ]
  },
  {
   "cell_type": "code",
   "execution_count": 8,
   "metadata": {
    "ExecuteTime": {
     "end_time": "2020-03-31T03:56:41.352364Z",
     "start_time": "2020-03-31T03:56:41.316974Z"
    }
   },
   "outputs": [],
   "source": [
    "#Tweak the data so it could be converted into datetime\n",
    "youtube['trending_date'] = youtube['trending_date'].apply(lambda x: '{}.{}.{}'.format(x[3:5],x[6:],x[0:2]))\n",
    "youtube['publish_time'] = youtube['publish_time'].apply(lambda x: x[:10])"
   ]
  },
  {
   "cell_type": "code",
   "execution_count": 9,
   "metadata": {
    "ExecuteTime": {
     "end_time": "2020-03-31T03:56:41.788876Z",
     "start_time": "2020-03-31T03:56:41.747034Z"
    }
   },
   "outputs": [],
   "source": [
    "youtube['trending_date'] = pd.to_datetime(youtube['trending_date'])\n",
    "youtube['publish_time'] = pd.to_datetime(youtube['publish_time'])"
   ]
  },
  {
   "cell_type": "code",
   "execution_count": 10,
   "metadata": {
    "ExecuteTime": {
     "end_time": "2020-03-31T04:05:59.668708Z",
     "start_time": "2020-03-31T04:05:59.659686Z"
    }
   },
   "outputs": [
    {
     "data": {
      "text/plain": [
       "0       2017-11-14\n",
       "1       2017-11-14\n",
       "2       2017-11-14\n",
       "3       2017-11-14\n",
       "4       2017-11-14\n",
       "           ...    \n",
       "40944   2018-06-14\n",
       "40945   2018-06-14\n",
       "40946   2018-06-14\n",
       "40947   2018-06-14\n",
       "40948   2018-06-14\n",
       "Name: trending_date, Length: 40949, dtype: datetime64[ns]"
      ]
     },
     "execution_count": 10,
     "metadata": {},
     "output_type": "execute_result"
    }
   ],
   "source": [
    "pd.to_datetime(youtube['trending_date'])"
   ]
  },
  {
   "cell_type": "code",
   "execution_count": 11,
   "metadata": {
    "ExecuteTime": {
     "end_time": "2020-03-31T04:06:12.488857Z",
     "start_time": "2020-03-31T04:06:12.480989Z"
    }
   },
   "outputs": [
    {
     "data": {
      "text/plain": [
       "0       2017-11-13\n",
       "1       2017-11-13\n",
       "2       2017-11-12\n",
       "3       2017-11-13\n",
       "4       2017-11-12\n",
       "           ...    \n",
       "40944   2018-05-18\n",
       "40945   2018-05-18\n",
       "40946   2018-05-18\n",
       "40947   2018-05-17\n",
       "40948   2018-05-17\n",
       "Name: publish_time, Length: 40949, dtype: datetime64[ns]"
      ]
     },
     "execution_count": 11,
     "metadata": {},
     "output_type": "execute_result"
    }
   ],
   "source": [
    "pd.to_datetime(youtube['publish_time'])"
   ]
  },
  {
   "cell_type": "code",
   "execution_count": 12,
   "metadata": {
    "ExecuteTime": {
     "end_time": "2020-03-31T04:38:51.415111Z",
     "start_time": "2020-03-31T04:38:51.407386Z"
    }
   },
   "outputs": [
    {
     "data": {
      "text/plain": [
       "0        1 days\n",
       "1        1 days\n",
       "2        2 days\n",
       "3        1 days\n",
       "4        2 days\n",
       "          ...  \n",
       "40944   27 days\n",
       "40945   27 days\n",
       "40946   27 days\n",
       "40947   28 days\n",
       "40948   28 days\n",
       "Length: 40949, dtype: timedelta64[ns]"
      ]
     },
     "execution_count": 12,
     "metadata": {},
     "output_type": "execute_result"
    }
   ],
   "source": [
    "(youtube['trending_date'] - youtube['publish_time'])"
   ]
  },
  {
   "cell_type": "code",
   "execution_count": 13,
   "metadata": {
    "ExecuteTime": {
     "end_time": "2020-03-31T03:56:42.431186Z",
     "start_time": "2020-03-31T03:56:42.125482Z"
    }
   },
   "outputs": [],
   "source": [
    "#Create a new column called Trending Gap which is a days difference between the Trending Date and the Publishing Time\n",
    "youtube['trending_gap'] = youtube['trending_date'] - youtube['publish_time']\n",
    "youtube['trending_gap'] = youtube['trending_gap'].apply(lambda x: x.days) "
   ]
  },
  {
   "cell_type": "code",
   "execution_count": 14,
   "metadata": {
    "ExecuteTime": {
     "end_time": "2020-03-31T04:38:43.965035Z",
     "start_time": "2020-03-31T04:38:43.957588Z"
    }
   },
   "outputs": [
    {
     "data": {
      "text/plain": [
       "0         1\n",
       "1         1\n",
       "2         2\n",
       "3         1\n",
       "4         2\n",
       "         ..\n",
       "40944    27\n",
       "40945    27\n",
       "40946    27\n",
       "40947    28\n",
       "40948    28\n",
       "Name: trending_gap, Length: 40949, dtype: int64"
      ]
     },
     "execution_count": 14,
     "metadata": {},
     "output_type": "execute_result"
    }
   ],
   "source": [
    "youtube['trending_gap']"
   ]
  },
  {
   "cell_type": "code",
   "execution_count": 15,
   "metadata": {
    "ExecuteTime": {
     "end_time": "2020-03-31T03:57:16.733249Z",
     "start_time": "2020-03-31T03:57:16.701429Z"
    }
   },
   "outputs": [],
   "source": [
    "#Here I create new column for the total character from the title and the description\n",
    "youtube['title_total_word'] = youtube['title'].apply(lambda x: len(x))\n",
    "youtube['description_total_word'] = youtube['description'].apply(lambda x: len(str(x)))"
   ]
  },
  {
   "cell_type": "code",
   "execution_count": 16,
   "metadata": {
    "ExecuteTime": {
     "end_time": "2020-03-31T03:56:43.047095Z",
     "start_time": "2020-03-31T03:56:42.849235Z"
    }
   },
   "outputs": [
    {
     "data": {
      "text/plain": [
       "Text(0.5, 1.0, 'Trending Gap')"
      ]
     },
     "execution_count": 16,
     "metadata": {},
     "output_type": "execute_result"
    },
    {
     "data": {
      "image/png": "[encoded data removed]",
      "text/plain": [
       "<Figure size 576x576 with 1 Axes>"
      ]
     },
     "metadata": {
      "needs_background": "light"
     },
     "output_type": "display_data"
    }
   ],
   "source": [
    "#Create a new column called Trending Gap which is a days difference between the Trending Date and the Publishing Time\n",
    "plt.figure(figsize = (8,8))\n",
    "sns.distplot(youtube['trending_gap'])\n",
    "plt.title('Trending Gap')"
   ]
  },
  {
   "cell_type": "code",
   "execution_count": 17,
   "metadata": {
    "ExecuteTime": {
     "end_time": "2020-03-31T03:57:21.087082Z",
     "start_time": "2020-03-31T03:57:20.902376Z"
    }
   },
   "outputs": [
    {
     "data": {
      "text/plain": [
       "Text(0.5, 1.0, 'Title Total Word')"
      ]
     },
     "execution_count": 17,
     "metadata": {},
     "output_type": "execute_result"
    },
    {
     "data": {
      "image/png": "[encoded data removed]",
      "text/plain": [
       "<Figure size 432x288 with 1 Axes>"
      ]
     },
     "metadata": {
      "needs_background": "light"
     },
     "output_type": "display_data"
    }
   ],
   "source": [
    "#jumlah karakter Title\n",
    "sns.distplot(youtube['title_total_word'])\n",
    "plt.title('Title Total Word')"
   ]
  },
  {
   "cell_type": "code",
   "execution_count": 18,
   "metadata": {
    "ExecuteTime": {
     "end_time": "2020-03-31T03:57:41.995108Z",
     "start_time": "2020-03-31T03:57:41.793218Z"
    }
   },
   "outputs": [
    {
     "data": {
      "text/plain": [
       "Text(0.5, 1.0, 'Description Total Word')"
      ]
     },
     "execution_count": 18,
     "metadata": {},
     "output_type": "execute_result"
    },
    {
     "data": {
      "image/png": "[encoded data removed]",
      "text/plain": [
       "<Figure size 432x288 with 1 Axes>"
      ]
     },
     "metadata": {
      "needs_background": "light"
     },
     "output_type": "display_data"
    }
   ],
   "source": [
    "#jumlah karakter Description\n",
    "sns.distplot(youtube['description_total_word'])\n",
    "plt.title('Description Total Word')"
   ]
  },
  {
   "cell_type": "code",
   "execution_count": 19,
   "metadata": {
    "ExecuteTime": {
     "end_time": "2020-03-31T03:58:08.137833Z",
     "start_time": "2020-03-31T03:58:07.290825Z"
    }
   },
   "outputs": [
    {
     "data": {
      "text/plain": [
       "<seaborn.axisgrid.JointGrid at 0x1a27907ed0>"
      ]
     },
     "execution_count": 19,
     "metadata": {},
     "output_type": "execute_result"
    },
    {
     "data": {
      "text/plain": [
       "<Figure size 576x576 with 0 Axes>"
      ]
     },
     "metadata": {},
     "output_type": "display_data"
    },
    {
     "data": {
      "image/png": "[encoded data removed]",
      "text/plain": [
       "<Figure size 432x432 with 3 Axes>"
      ]
     },
     "metadata": {
      "needs_background": "light"
     },
     "output_type": "display_data"
    }
   ],
   "source": [
    "plt.figure(figsize = (8,8))\n",
    "sns.jointplot(data = youtube, x = 'trending_gap', y = 'views')"
   ]
  },
  {
   "cell_type": "code",
   "execution_count": 20,
   "metadata": {
    "ExecuteTime": {
     "end_time": "2020-03-31T03:58:20.787411Z",
     "start_time": "2020-03-31T03:58:19.955922Z"
    }
   },
   "outputs": [
    {
     "data": {
      "text/plain": [
       "<seaborn.axisgrid.JointGrid at 0x1a27342710>"
      ]
     },
     "execution_count": 20,
     "metadata": {},
     "output_type": "execute_result"
    },
    {
     "data": {
      "text/plain": [
       "<Figure size 576x576 with 0 Axes>"
      ]
     },
     "metadata": {},
     "output_type": "display_data"
    },
    {
     "data": {
      "image/png": "[encoded data removed]",
      "text/plain": [
       "<Figure size 432x432 with 3 Axes>"
      ]
     },
     "metadata": {
      "needs_background": "light"
     },
     "output_type": "display_data"
    }
   ],
   "source": [
    "plt.figure(figsize = (8,8))\n",
    "sns.jointplot(data = youtube, x = 'title_total_word', y = 'description_total_word')"
   ]
  },
  {
   "cell_type": "code",
   "execution_count": 21,
   "metadata": {
    "ExecuteTime": {
     "end_time": "2020-03-31T03:58:43.202879Z",
     "start_time": "2020-03-31T03:58:42.831762Z"
    }
   },
   "outputs": [
    {
     "data": {
      "text/plain": [
       "<matplotlib.axes._subplots.AxesSubplot at 0x1a27d7e390>"
      ]
     },
     "execution_count": 21,
     "metadata": {},
     "output_type": "execute_result"
    },
    {
     "data": {
      "image/png": "[encoded data removed]",
      "text/plain": [
       "<Figure size 576x576 with 1 Axes>"
      ]
     },
     "metadata": {
      "needs_background": "light"
     },
     "output_type": "display_data"
    }
   ],
   "source": [
    "plt.figure(figsize = (8,8))\n",
    "sns.boxplot(x = 'category_id', y = 'title_total_word', data = youtube)"
   ]
  },
  {
   "cell_type": "code",
   "execution_count": 22,
   "metadata": {
    "ExecuteTime": {
     "end_time": "2020-03-31T04:46:57.128302Z",
     "start_time": "2020-03-31T04:46:55.534960Z"
    }
   },
   "outputs": [
    {
     "data": {
      "text/plain": [
       "<matplotlib.axes._subplots.AxesSubplot at 0x1a285b07d0>"
      ]
     },
     "execution_count": 22,
     "metadata": {},
     "output_type": "execute_result"
    },
    {
     "data": {
      "image/png": "[encoded data removed]",
      "text/plain": [
       "<Figure size 864x864 with 2 Axes>"
      ]
     },
     "metadata": {
      "needs_background": "light"
     },
     "output_type": "display_data"
    }
   ],
   "source": [
    "plt.figure(figsize = (12,12))\n",
    "sns.heatmap(youtube.corr('spearman'), annot = True)"
   ]
  },
  {
   "cell_type": "code",
   "execution_count": 23,
   "metadata": {
    "ExecuteTime": {
     "end_time": "2020-03-31T04:19:21.871810Z",
     "start_time": "2020-03-31T04:19:21.864291Z"
    }
   },
   "outputs": [],
   "source": [
    "# I create a new column called like_delta, which basically differences of number between likes and disilikes\n",
    "youtube['like_delta'] = youtube['likes'] - youtube['dislikes']"
   ]
  },
  {
   "cell_type": "code",
   "execution_count": 24,
   "metadata": {
    "ExecuteTime": {
     "end_time": "2020-03-31T04:19:38.300310Z",
     "start_time": "2020-03-31T04:19:38.272342Z"
    }
   },
   "outputs": [
    {
     "data": {
      "text/html": [
       "<div>\n",
       "<style scoped>\n",
       "    .dataframe tbody tr th:only-of-type {\n",
       "        vertical-align: middle;\n",
       "    }\n",
       "\n",
       "    .dataframe tbody tr th {\n",
       "        vertical-align: top;\n",
       "    }\n",
       "\n",
       "    .dataframe thead th {\n",
       "        text-align: right;\n",
       "    }\n",
       "</style>\n",
       "<table border=\"1\" class=\"dataframe\">\n",
       "  <thead>\n",
       "    <tr style=\"text-align: right;\">\n",
       "      <th></th>\n",
       "      <th>video_id</th>\n",
       "      <th>trending_date</th>\n",
       "      <th>title</th>\n",
       "      <th>channel_title</th>\n",
       "      <th>category_id</th>\n",
       "      <th>publish_time</th>\n",
       "      <th>tags</th>\n",
       "      <th>views</th>\n",
       "      <th>likes</th>\n",
       "      <th>dislikes</th>\n",
       "      <th>comment_count</th>\n",
       "      <th>thumbnail_link</th>\n",
       "      <th>comments_disabled</th>\n",
       "      <th>ratings_disabled</th>\n",
       "      <th>video_error_or_removed</th>\n",
       "      <th>description</th>\n",
       "      <th>trending_gap</th>\n",
       "      <th>title_total_word</th>\n",
       "      <th>description_total_word</th>\n",
       "      <th>like_delta</th>\n",
       "    </tr>\n",
       "  </thead>\n",
       "  <tbody>\n",
       "    <tr>\n",
       "      <td>192</td>\n",
       "      <td>wRGldR_SQAA</td>\n",
       "      <td>2017-11-14</td>\n",
       "      <td>Apple Clips sample</td>\n",
       "      <td>Steve Kovach</td>\n",
       "      <td>22</td>\n",
       "      <td>2017-11-09</td>\n",
       "      <td>[none]</td>\n",
       "      <td>2259</td>\n",
       "      <td>0</td>\n",
       "      <td>0</td>\n",
       "      <td>0</td>\n",
       "      <td>https://i.ytimg.com/vi/wRGldR_SQAA/default.jpg</td>\n",
       "      <td>False</td>\n",
       "      <td>False</td>\n",
       "      <td>False</td>\n",
       "      <td>Clips 2.0 lets you use augmented reality and s...</td>\n",
       "      <td>5</td>\n",
       "      <td>18</td>\n",
       "      <td>92</td>\n",
       "      <td>0</td>\n",
       "    </tr>\n",
       "    <tr>\n",
       "      <td>1435</td>\n",
       "      <td>Kn5UgGQukYQ</td>\n",
       "      <td>2017-11-21</td>\n",
       "      <td>Breaking Bad's Bryan Cranston on Meeting Charl...</td>\n",
       "      <td>hudsonunionsociety</td>\n",
       "      <td>1</td>\n",
       "      <td>2016-10-14</td>\n",
       "      <td>Breaking Bad|\"Bryan Cranston\"|\"malcom in the m...</td>\n",
       "      <td>15058</td>\n",
       "      <td>0</td>\n",
       "      <td>0</td>\n",
       "      <td>0</td>\n",
       "      <td>https://i.ytimg.com/vi/Kn5UgGQukYQ/default.jpg</td>\n",
       "      <td>True</td>\n",
       "      <td>True</td>\n",
       "      <td>False</td>\n",
       "      <td>The Hudson Union www.hudsonunionsociety.com is...</td>\n",
       "      <td>403</td>\n",
       "      <td>55</td>\n",
       "      <td>2310</td>\n",
       "      <td>0</td>\n",
       "    </tr>\n",
       "    <tr>\n",
       "      <td>1667</td>\n",
       "      <td>Kn5UgGQukYQ</td>\n",
       "      <td>2017-11-22</td>\n",
       "      <td>Breaking Bad's Bryan Cranston on Meeting Charl...</td>\n",
       "      <td>hudsonunionsociety</td>\n",
       "      <td>1</td>\n",
       "      <td>2016-10-14</td>\n",
       "      <td>Breaking Bad|\"Bryan Cranston\"|\"malcom in the m...</td>\n",
       "      <td>34207</td>\n",
       "      <td>0</td>\n",
       "      <td>0</td>\n",
       "      <td>0</td>\n",
       "      <td>https://i.ytimg.com/vi/Kn5UgGQukYQ/default.jpg</td>\n",
       "      <td>True</td>\n",
       "      <td>True</td>\n",
       "      <td>False</td>\n",
       "      <td>The Hudson Union www.hudsonunionsociety.com is...</td>\n",
       "      <td>404</td>\n",
       "      <td>55</td>\n",
       "      <td>2310</td>\n",
       "      <td>0</td>\n",
       "    </tr>\n",
       "    <tr>\n",
       "      <td>1868</td>\n",
       "      <td>_akwfRuL4os</td>\n",
       "      <td>2017-11-23</td>\n",
       "      <td>Highlights of the EA predatory behavior announ...</td>\n",
       "      <td>chris lee</td>\n",
       "      <td>22</td>\n",
       "      <td>2017-11-21</td>\n",
       "      <td>[none]</td>\n",
       "      <td>160012</td>\n",
       "      <td>0</td>\n",
       "      <td>0</td>\n",
       "      <td>1722</td>\n",
       "      <td>https://i.ytimg.com/vi/_akwfRuL4os/default.jpg</td>\n",
       "      <td>False</td>\n",
       "      <td>True</td>\n",
       "      <td>False</td>\n",
       "      <td>The State of Hawaii announces action to addres...</td>\n",
       "      <td>2</td>\n",
       "      <td>52</td>\n",
       "      <td>122</td>\n",
       "      <td>0</td>\n",
       "    </tr>\n",
       "    <tr>\n",
       "      <td>1914</td>\n",
       "      <td>Kn5UgGQukYQ</td>\n",
       "      <td>2017-11-23</td>\n",
       "      <td>Breaking Bad's Bryan Cranston on Meeting Charl...</td>\n",
       "      <td>hudsonunionsociety</td>\n",
       "      <td>1</td>\n",
       "      <td>2016-10-14</td>\n",
       "      <td>Breaking Bad|\"Bryan Cranston\"|\"malcom in the m...</td>\n",
       "      <td>36137</td>\n",
       "      <td>0</td>\n",
       "      <td>0</td>\n",
       "      <td>0</td>\n",
       "      <td>https://i.ytimg.com/vi/Kn5UgGQukYQ/default.jpg</td>\n",
       "      <td>True</td>\n",
       "      <td>True</td>\n",
       "      <td>False</td>\n",
       "      <td>The Hudson Union www.hudsonunionsociety.com is...</td>\n",
       "      <td>405</td>\n",
       "      <td>55</td>\n",
       "      <td>2310</td>\n",
       "      <td>0</td>\n",
       "    </tr>\n",
       "    <tr>\n",
       "      <td>...</td>\n",
       "      <td>...</td>\n",
       "      <td>...</td>\n",
       "      <td>...</td>\n",
       "      <td>...</td>\n",
       "      <td>...</td>\n",
       "      <td>...</td>\n",
       "      <td>...</td>\n",
       "      <td>...</td>\n",
       "      <td>...</td>\n",
       "      <td>...</td>\n",
       "      <td>...</td>\n",
       "      <td>...</td>\n",
       "      <td>...</td>\n",
       "      <td>...</td>\n",
       "      <td>...</td>\n",
       "      <td>...</td>\n",
       "      <td>...</td>\n",
       "      <td>...</td>\n",
       "      <td>...</td>\n",
       "      <td>...</td>\n",
       "    </tr>\n",
       "    <tr>\n",
       "      <td>28135</td>\n",
       "      <td>UwbO_xb1-Xo</td>\n",
       "      <td>2018-05-04</td>\n",
       "      <td>KKW BEAUTY: Conceal, Bake, Brighten with Mario...</td>\n",
       "      <td>Kim Kardashian West</td>\n",
       "      <td>22</td>\n",
       "      <td>2018-03-21</td>\n",
       "      <td>Mario Dedivanovic|\"KKW BEAUTY\"|\"CONCEALER\"|\"CO...</td>\n",
       "      <td>1040664</td>\n",
       "      <td>0</td>\n",
       "      <td>0</td>\n",
       "      <td>0</td>\n",
       "      <td>https://i.ytimg.com/vi/UwbO_xb1-Xo/default.jpg</td>\n",
       "      <td>True</td>\n",
       "      <td>True</td>\n",
       "      <td>False</td>\n",
       "      <td>Watch me conceal, bake and brighten with Mario...</td>\n",
       "      <td>44</td>\n",
       "      <td>58</td>\n",
       "      <td>79</td>\n",
       "      <td>0</td>\n",
       "    </tr>\n",
       "    <tr>\n",
       "      <td>28346</td>\n",
       "      <td>UwbO_xb1-Xo</td>\n",
       "      <td>2018-06-04</td>\n",
       "      <td>KKW BEAUTY: Conceal, Bake, Brighten with Mario...</td>\n",
       "      <td>Kim Kardashian West</td>\n",
       "      <td>22</td>\n",
       "      <td>2018-03-21</td>\n",
       "      <td>Mario Dedivanovic|\"KKW BEAUTY\"|\"CONCEALER\"|\"CO...</td>\n",
       "      <td>1045731</td>\n",
       "      <td>0</td>\n",
       "      <td>0</td>\n",
       "      <td>0</td>\n",
       "      <td>https://i.ytimg.com/vi/UwbO_xb1-Xo/default.jpg</td>\n",
       "      <td>True</td>\n",
       "      <td>True</td>\n",
       "      <td>False</td>\n",
       "      <td>Watch me conceal, bake and brighten with Mario...</td>\n",
       "      <td>75</td>\n",
       "      <td>58</td>\n",
       "      <td>79</td>\n",
       "      <td>0</td>\n",
       "    </tr>\n",
       "    <tr>\n",
       "      <td>28550</td>\n",
       "      <td>9TUBf6l7FBg</td>\n",
       "      <td>2018-04-14</td>\n",
       "      <td>Coachella 2018 LIVE Channel 1</td>\n",
       "      <td>Coachella</td>\n",
       "      <td>10</td>\n",
       "      <td>2018-04-05</td>\n",
       "      <td>[none]</td>\n",
       "      <td>3598220</td>\n",
       "      <td>0</td>\n",
       "      <td>0</td>\n",
       "      <td>0</td>\n",
       "      <td>https://i.ytimg.com/vi/9TUBf6l7FBg/default_liv...</td>\n",
       "      <td>False</td>\n",
       "      <td>True</td>\n",
       "      <td>False</td>\n",
       "      <td>For more cameras and VR180 immersive experienc...</td>\n",
       "      <td>9</td>\n",
       "      <td>29</td>\n",
       "      <td>1258</td>\n",
       "      <td>0</td>\n",
       "    </tr>\n",
       "    <tr>\n",
       "      <td>28751</td>\n",
       "      <td>9TUBf6l7FBg</td>\n",
       "      <td>2018-04-15</td>\n",
       "      <td>Coachella 2018 LIVE Channel 1</td>\n",
       "      <td>Coachella</td>\n",
       "      <td>10</td>\n",
       "      <td>2018-04-05</td>\n",
       "      <td>[none]</td>\n",
       "      <td>11137071</td>\n",
       "      <td>0</td>\n",
       "      <td>0</td>\n",
       "      <td>2</td>\n",
       "      <td>https://i.ytimg.com/vi/9TUBf6l7FBg/default_liv...</td>\n",
       "      <td>False</td>\n",
       "      <td>True</td>\n",
       "      <td>False</td>\n",
       "      <td>For more cameras and VR180 immersive experienc...</td>\n",
       "      <td>10</td>\n",
       "      <td>29</td>\n",
       "      <td>1258</td>\n",
       "      <td>0</td>\n",
       "    </tr>\n",
       "    <tr>\n",
       "      <td>28955</td>\n",
       "      <td>9TUBf6l7FBg</td>\n",
       "      <td>2018-04-16</td>\n",
       "      <td>Coachella 2018 LIVE Channel 1</td>\n",
       "      <td>Coachella</td>\n",
       "      <td>10</td>\n",
       "      <td>2018-04-05</td>\n",
       "      <td>[none]</td>\n",
       "      <td>24004779</td>\n",
       "      <td>0</td>\n",
       "      <td>0</td>\n",
       "      <td>3</td>\n",
       "      <td>https://i.ytimg.com/vi/9TUBf6l7FBg/default_liv...</td>\n",
       "      <td>False</td>\n",
       "      <td>True</td>\n",
       "      <td>False</td>\n",
       "      <td>For more cameras and VR180 immersive experienc...</td>\n",
       "      <td>11</td>\n",
       "      <td>29</td>\n",
       "      <td>690</td>\n",
       "      <td>0</td>\n",
       "    </tr>\n",
       "  </tbody>\n",
       "</table>\n",
       "<p>181 rows × 20 columns</p>\n",
       "</div>"
      ],
      "text/plain": [
       "          video_id trending_date  \\\n",
       "192    wRGldR_SQAA    2017-11-14   \n",
       "1435   Kn5UgGQukYQ    2017-11-21   \n",
       "1667   Kn5UgGQukYQ    2017-11-22   \n",
       "1868   _akwfRuL4os    2017-11-23   \n",
       "1914   Kn5UgGQukYQ    2017-11-23   \n",
       "...            ...           ...   \n",
       "28135  UwbO_xb1-Xo    2018-05-04   \n",
       "28346  UwbO_xb1-Xo    2018-06-04   \n",
       "28550  9TUBf6l7FBg    2018-04-14   \n",
       "28751  9TUBf6l7FBg    2018-04-15   \n",
       "28955  9TUBf6l7FBg    2018-04-16   \n",
       "\n",
       "                                                   title        channel_title  \\\n",
       "192                                   Apple Clips sample         Steve Kovach   \n",
       "1435   Breaking Bad's Bryan Cranston on Meeting Charl...   hudsonunionsociety   \n",
       "1667   Breaking Bad's Bryan Cranston on Meeting Charl...   hudsonunionsociety   \n",
       "1868   Highlights of the EA predatory behavior announ...            chris lee   \n",
       "1914   Breaking Bad's Bryan Cranston on Meeting Charl...   hudsonunionsociety   \n",
       "...                                                  ...                  ...   \n",
       "28135  KKW BEAUTY: Conceal, Bake, Brighten with Mario...  Kim Kardashian West   \n",
       "28346  KKW BEAUTY: Conceal, Bake, Brighten with Mario...  Kim Kardashian West   \n",
       "28550                      Coachella 2018 LIVE Channel 1            Coachella   \n",
       "28751                      Coachella 2018 LIVE Channel 1            Coachella   \n",
       "28955                      Coachella 2018 LIVE Channel 1            Coachella   \n",
       "\n",
       "       category_id publish_time  \\\n",
       "192             22   2017-11-09   \n",
       "1435             1   2016-10-14   \n",
       "1667             1   2016-10-14   \n",
       "1868            22   2017-11-21   \n",
       "1914             1   2016-10-14   \n",
       "...            ...          ...   \n",
       "28135           22   2018-03-21   \n",
       "28346           22   2018-03-21   \n",
       "28550           10   2018-04-05   \n",
       "28751           10   2018-04-05   \n",
       "28955           10   2018-04-05   \n",
       "\n",
       "                                                    tags     views  likes  \\\n",
       "192                                               [none]      2259      0   \n",
       "1435   Breaking Bad|\"Bryan Cranston\"|\"malcom in the m...     15058      0   \n",
       "1667   Breaking Bad|\"Bryan Cranston\"|\"malcom in the m...     34207      0   \n",
       "1868                                              [none]    160012      0   \n",
       "1914   Breaking Bad|\"Bryan Cranston\"|\"malcom in the m...     36137      0   \n",
       "...                                                  ...       ...    ...   \n",
       "28135  Mario Dedivanovic|\"KKW BEAUTY\"|\"CONCEALER\"|\"CO...   1040664      0   \n",
       "28346  Mario Dedivanovic|\"KKW BEAUTY\"|\"CONCEALER\"|\"CO...   1045731      0   \n",
       "28550                                             [none]   3598220      0   \n",
       "28751                                             [none]  11137071      0   \n",
       "28955                                             [none]  24004779      0   \n",
       "\n",
       "       dislikes  comment_count  \\\n",
       "192           0              0   \n",
       "1435          0              0   \n",
       "1667          0              0   \n",
       "1868          0           1722   \n",
       "1914          0              0   \n",
       "...         ...            ...   \n",
       "28135         0              0   \n",
       "28346         0              0   \n",
       "28550         0              0   \n",
       "28751         0              2   \n",
       "28955         0              3   \n",
       "\n",
       "                                          thumbnail_link  comments_disabled  \\\n",
       "192       https://i.ytimg.com/vi/wRGldR_SQAA/default.jpg              False   \n",
       "1435      https://i.ytimg.com/vi/Kn5UgGQukYQ/default.jpg               True   \n",
       "1667      https://i.ytimg.com/vi/Kn5UgGQukYQ/default.jpg               True   \n",
       "1868      https://i.ytimg.com/vi/_akwfRuL4os/default.jpg              False   \n",
       "1914      https://i.ytimg.com/vi/Kn5UgGQukYQ/default.jpg               True   \n",
       "...                                                  ...                ...   \n",
       "28135     https://i.ytimg.com/vi/UwbO_xb1-Xo/default.jpg               True   \n",
       "28346     https://i.ytimg.com/vi/UwbO_xb1-Xo/default.jpg               True   \n",
       "28550  https://i.ytimg.com/vi/9TUBf6l7FBg/default_liv...              False   \n",
       "28751  https://i.ytimg.com/vi/9TUBf6l7FBg/default_liv...              False   \n",
       "28955  https://i.ytimg.com/vi/9TUBf6l7FBg/default_liv...              False   \n",
       "\n",
       "       ratings_disabled  video_error_or_removed  \\\n",
       "192               False                   False   \n",
       "1435               True                   False   \n",
       "1667               True                   False   \n",
       "1868               True                   False   \n",
       "1914               True                   False   \n",
       "...                 ...                     ...   \n",
       "28135              True                   False   \n",
       "28346              True                   False   \n",
       "28550              True                   False   \n",
       "28751              True                   False   \n",
       "28955              True                   False   \n",
       "\n",
       "                                             description  trending_gap  \\\n",
       "192    Clips 2.0 lets you use augmented reality and s...             5   \n",
       "1435   The Hudson Union www.hudsonunionsociety.com is...           403   \n",
       "1667   The Hudson Union www.hudsonunionsociety.com is...           404   \n",
       "1868   The State of Hawaii announces action to addres...             2   \n",
       "1914   The Hudson Union www.hudsonunionsociety.com is...           405   \n",
       "...                                                  ...           ...   \n",
       "28135  Watch me conceal, bake and brighten with Mario...            44   \n",
       "28346  Watch me conceal, bake and brighten with Mario...            75   \n",
       "28550  For more cameras and VR180 immersive experienc...             9   \n",
       "28751  For more cameras and VR180 immersive experienc...            10   \n",
       "28955  For more cameras and VR180 immersive experienc...            11   \n",
       "\n",
       "       title_total_word  description_total_word  like_delta  \n",
       "192                  18                      92           0  \n",
       "1435                 55                    2310           0  \n",
       "1667                 55                    2310           0  \n",
       "1868                 52                     122           0  \n",
       "1914                 55                    2310           0  \n",
       "...                 ...                     ...         ...  \n",
       "28135                58                      79           0  \n",
       "28346                58                      79           0  \n",
       "28550                29                    1258           0  \n",
       "28751                29                    1258           0  \n",
       "28955                29                     690           0  \n",
       "\n",
       "[181 rows x 20 columns]"
      ]
     },
     "execution_count": 24,
     "metadata": {},
     "output_type": "execute_result"
    }
   ],
   "source": [
    "youtube[youtube['like_delta'] == 0]"
   ]
  },
  {
   "cell_type": "markdown",
   "metadata": {},
   "source": [
    "## Question\n",
    "\n",
    "Why do you think there is a trend video that did not had no difference at all between the number of the likes and dislikes? Is there any interesting pattern from the data you could find? Show it with the data and visual if you find it interesting"
   ]
  },
  {
   "cell_type": "code",
   "execution_count": 25,
   "metadata": {
    "scrolled": false
   },
   "outputs": [
    {
     "data": {
      "text/plain": [
       "[<matplotlib.lines.Line2D at 0x1a27013910>]"
      ]
     },
     "execution_count": 25,
     "metadata": {},
     "output_type": "execute_result"
    },
    {
     "data": {
      "image/png": "[encoded data removed]",
      "text/plain": [
       "<Figure size 432x288 with 1 Axes>"
      ]
     },
     "metadata": {
      "needs_background": "light"
     },
     "output_type": "display_data"
    }
   ],
   "source": [
    "plt.scatter(x='likes', y='dislikes', data=youtube)\n",
    "plt.xlabel('likes')\n",
    "plt.ylabel('dislikes')\n",
    "plt.axis('equal')\n",
    "plt.plot([0,3500000],[0,3500000],'r')"
   ]
  },
  {
   "cell_type": "code",
   "execution_count": 26,
   "metadata": {
    "scrolled": true
   },
   "outputs": [
    {
     "data": {
      "text/html": [
       "<div>\n",
       "<style scoped>\n",
       "    .dataframe tbody tr th:only-of-type {\n",
       "        vertical-align: middle;\n",
       "    }\n",
       "\n",
       "    .dataframe tbody tr th {\n",
       "        vertical-align: top;\n",
       "    }\n",
       "\n",
       "    .dataframe thead th {\n",
       "        text-align: right;\n",
       "    }\n",
       "</style>\n",
       "<table border=\"1\" class=\"dataframe\">\n",
       "  <thead>\n",
       "    <tr style=\"text-align: right;\">\n",
       "      <th></th>\n",
       "      <th>video_id</th>\n",
       "      <th>trending_date</th>\n",
       "      <th>title</th>\n",
       "      <th>channel_title</th>\n",
       "      <th>category_id</th>\n",
       "      <th>publish_time</th>\n",
       "      <th>tags</th>\n",
       "      <th>views</th>\n",
       "      <th>likes</th>\n",
       "      <th>dislikes</th>\n",
       "      <th>comment_count</th>\n",
       "      <th>thumbnail_link</th>\n",
       "      <th>comments_disabled</th>\n",
       "      <th>ratings_disabled</th>\n",
       "      <th>video_error_or_removed</th>\n",
       "      <th>description</th>\n",
       "      <th>trending_gap</th>\n",
       "      <th>title_total_word</th>\n",
       "      <th>description_total_word</th>\n",
       "      <th>like_delta</th>\n",
       "    </tr>\n",
       "  </thead>\n",
       "  <tbody>\n",
       "    <tr>\n",
       "      <td>6201</td>\n",
       "      <td>8d_202l55LU</td>\n",
       "      <td>2017-12-15</td>\n",
       "      <td>The FCC repeals its net neutrality rules</td>\n",
       "      <td>Washington Post</td>\n",
       "      <td>25</td>\n",
       "      <td>2017-12-14</td>\n",
       "      <td>fcc net neutrality|\"breaking news video\"|\"vide...</td>\n",
       "      <td>985179</td>\n",
       "      <td>4870</td>\n",
       "      <td>110707</td>\n",
       "      <td>19843</td>\n",
       "      <td>https://i.ytimg.com/vi/8d_202l55LU/default.jpg</td>\n",
       "      <td>False</td>\n",
       "      <td>False</td>\n",
       "      <td>False</td>\n",
       "      <td>Federal regulators vote to allow Internet prov...</td>\n",
       "      <td>1</td>\n",
       "      <td>40</td>\n",
       "      <td>512</td>\n",
       "      <td>-105837</td>\n",
       "    </tr>\n",
       "    <tr>\n",
       "      <td>6410</td>\n",
       "      <td>8d_202l55LU</td>\n",
       "      <td>2017-12-16</td>\n",
       "      <td>The FCC repeals its net neutrality rules</td>\n",
       "      <td>Washington Post</td>\n",
       "      <td>25</td>\n",
       "      <td>2017-12-14</td>\n",
       "      <td>fcc net neutrality|\"breaking news video\"|\"vide...</td>\n",
       "      <td>1192501</td>\n",
       "      <td>5707</td>\n",
       "      <td>126649</td>\n",
       "      <td>23426</td>\n",
       "      <td>https://i.ytimg.com/vi/8d_202l55LU/default.jpg</td>\n",
       "      <td>False</td>\n",
       "      <td>False</td>\n",
       "      <td>False</td>\n",
       "      <td>Federal regulators vote to allow Internet prov...</td>\n",
       "      <td>2</td>\n",
       "      <td>40</td>\n",
       "      <td>512</td>\n",
       "      <td>-120942</td>\n",
       "    </tr>\n",
       "    <tr>\n",
       "      <td>6421</td>\n",
       "      <td>8I_NkJ8VTEI</td>\n",
       "      <td>2017-12-16</td>\n",
       "      <td>Judge Roy Moore Campaign Statement</td>\n",
       "      <td>Roy Moore for Senate</td>\n",
       "      <td>22</td>\n",
       "      <td>2017-12-14</td>\n",
       "      <td>[none]</td>\n",
       "      <td>708489</td>\n",
       "      <td>3960</td>\n",
       "      <td>54061</td>\n",
       "      <td>0</td>\n",
       "      <td>https://i.ytimg.com/vi/8I_NkJ8VTEI/default.jpg</td>\n",
       "      <td>True</td>\n",
       "      <td>False</td>\n",
       "      <td>False</td>\n",
       "      <td>December 13, 2017 | Montgomery, Alabama</td>\n",
       "      <td>2</td>\n",
       "      <td>34</td>\n",
       "      <td>39</td>\n",
       "      <td>-50101</td>\n",
       "    </tr>\n",
       "    <tr>\n",
       "      <td>6621</td>\n",
       "      <td>8d_202l55LU</td>\n",
       "      <td>2017-12-17</td>\n",
       "      <td>The FCC repeals its net neutrality rules</td>\n",
       "      <td>Washington Post</td>\n",
       "      <td>25</td>\n",
       "      <td>2017-12-14</td>\n",
       "      <td>fcc net neutrality|\"breaking news video\"|\"vide...</td>\n",
       "      <td>1242998</td>\n",
       "      <td>5884</td>\n",
       "      <td>130836</td>\n",
       "      <td>23297</td>\n",
       "      <td>https://i.ytimg.com/vi/8d_202l55LU/default.jpg</td>\n",
       "      <td>False</td>\n",
       "      <td>False</td>\n",
       "      <td>False</td>\n",
       "      <td>Federal regulators vote to allow Internet prov...</td>\n",
       "      <td>3</td>\n",
       "      <td>40</td>\n",
       "      <td>512</td>\n",
       "      <td>-124952</td>\n",
       "    </tr>\n",
       "    <tr>\n",
       "      <td>6631</td>\n",
       "      <td>8I_NkJ8VTEI</td>\n",
       "      <td>2017-12-17</td>\n",
       "      <td>Judge Roy Moore Campaign Statement</td>\n",
       "      <td>Roy Moore for Senate</td>\n",
       "      <td>22</td>\n",
       "      <td>2017-12-14</td>\n",
       "      <td>[none]</td>\n",
       "      <td>753386</td>\n",
       "      <td>4167</td>\n",
       "      <td>57285</td>\n",
       "      <td>0</td>\n",
       "      <td>https://i.ytimg.com/vi/8I_NkJ8VTEI/default.jpg</td>\n",
       "      <td>True</td>\n",
       "      <td>False</td>\n",
       "      <td>False</td>\n",
       "      <td>December 13, 2017 | Montgomery, Alabama</td>\n",
       "      <td>3</td>\n",
       "      <td>34</td>\n",
       "      <td>39</td>\n",
       "      <td>-53118</td>\n",
       "    </tr>\n",
       "    <tr>\n",
       "      <td>6856</td>\n",
       "      <td>8d_202l55LU</td>\n",
       "      <td>2017-12-18</td>\n",
       "      <td>The FCC repeals its net neutrality rules</td>\n",
       "      <td>Washington Post</td>\n",
       "      <td>25</td>\n",
       "      <td>2017-12-14</td>\n",
       "      <td>fcc net neutrality|\"breaking news video\"|\"vide...</td>\n",
       "      <td>1263104</td>\n",
       "      <td>5930</td>\n",
       "      <td>132439</td>\n",
       "      <td>23543</td>\n",
       "      <td>https://i.ytimg.com/vi/8d_202l55LU/default.jpg</td>\n",
       "      <td>False</td>\n",
       "      <td>False</td>\n",
       "      <td>False</td>\n",
       "      <td>Federal regulators vote to allow Internet prov...</td>\n",
       "      <td>4</td>\n",
       "      <td>40</td>\n",
       "      <td>512</td>\n",
       "      <td>-126509</td>\n",
       "    </tr>\n",
       "    <tr>\n",
       "      <td>6871</td>\n",
       "      <td>8I_NkJ8VTEI</td>\n",
       "      <td>2017-12-18</td>\n",
       "      <td>Judge Roy Moore Campaign Statement</td>\n",
       "      <td>Roy Moore for Senate</td>\n",
       "      <td>22</td>\n",
       "      <td>2017-12-14</td>\n",
       "      <td>[none]</td>\n",
       "      <td>773357</td>\n",
       "      <td>4234</td>\n",
       "      <td>58327</td>\n",
       "      <td>0</td>\n",
       "      <td>https://i.ytimg.com/vi/8I_NkJ8VTEI/default.jpg</td>\n",
       "      <td>True</td>\n",
       "      <td>False</td>\n",
       "      <td>False</td>\n",
       "      <td>December 13, 2017 | Montgomery, Alabama</td>\n",
       "      <td>4</td>\n",
       "      <td>34</td>\n",
       "      <td>39</td>\n",
       "      <td>-54093</td>\n",
       "    </tr>\n",
       "    <tr>\n",
       "      <td>7109</td>\n",
       "      <td>8I_NkJ8VTEI</td>\n",
       "      <td>2017-12-19</td>\n",
       "      <td>Judge Roy Moore Campaign Statement</td>\n",
       "      <td>Roy Moore for Senate</td>\n",
       "      <td>22</td>\n",
       "      <td>2017-12-14</td>\n",
       "      <td>[none]</td>\n",
       "      <td>781487</td>\n",
       "      <td>4280</td>\n",
       "      <td>58726</td>\n",
       "      <td>0</td>\n",
       "      <td>https://i.ytimg.com/vi/8I_NkJ8VTEI/default.jpg</td>\n",
       "      <td>True</td>\n",
       "      <td>False</td>\n",
       "      <td>False</td>\n",
       "      <td>December 13, 2017 | Montgomery, Alabama</td>\n",
       "      <td>5</td>\n",
       "      <td>34</td>\n",
       "      <td>39</td>\n",
       "      <td>-54446</td>\n",
       "    </tr>\n",
       "    <tr>\n",
       "      <td>7116</td>\n",
       "      <td>LFhT6H6pRWg</td>\n",
       "      <td>2017-12-19</td>\n",
       "      <td>PSA from Chairman of the FCC Ajit Pai</td>\n",
       "      <td>Daily Caller</td>\n",
       "      <td>22</td>\n",
       "      <td>2017-12-13</td>\n",
       "      <td>thedc|\"dc\"|\"washington dc\"|\"washington\"|\"the d...</td>\n",
       "      <td>1142585</td>\n",
       "      <td>9100</td>\n",
       "      <td>218841</td>\n",
       "      <td>28013</td>\n",
       "      <td>https://i.ytimg.com/vi/LFhT6H6pRWg/default.jpg</td>\n",
       "      <td>False</td>\n",
       "      <td>False</td>\n",
       "      <td>False</td>\n",
       "      <td>Ajit Pai has been at the heart of the net neut...</td>\n",
       "      <td>6</td>\n",
       "      <td>37</td>\n",
       "      <td>720</td>\n",
       "      <td>-209741</td>\n",
       "    </tr>\n",
       "    <tr>\n",
       "      <td>7357</td>\n",
       "      <td>LFhT6H6pRWg</td>\n",
       "      <td>2017-12-20</td>\n",
       "      <td>PSA from Chairman of the FCC Ajit Pai</td>\n",
       "      <td>Daily Caller</td>\n",
       "      <td>22</td>\n",
       "      <td>2017-12-13</td>\n",
       "      <td>thedc|\"dc\"|\"washington dc\"|\"washington\"|\"the d...</td>\n",
       "      <td>1179072</td>\n",
       "      <td>9368</td>\n",
       "      <td>224152</td>\n",
       "      <td>29063</td>\n",
       "      <td>https://i.ytimg.com/vi/LFhT6H6pRWg/default.jpg</td>\n",
       "      <td>False</td>\n",
       "      <td>False</td>\n",
       "      <td>False</td>\n",
       "      <td>Ajit Pai has been at the heart of the net neut...</td>\n",
       "      <td>7</td>\n",
       "      <td>37</td>\n",
       "      <td>720</td>\n",
       "      <td>-214784</td>\n",
       "    </tr>\n",
       "    <tr>\n",
       "      <td>7358</td>\n",
       "      <td>8I_NkJ8VTEI</td>\n",
       "      <td>2017-12-20</td>\n",
       "      <td>Judge Roy Moore Campaign Statement</td>\n",
       "      <td>Roy Moore for Senate</td>\n",
       "      <td>22</td>\n",
       "      <td>2017-12-14</td>\n",
       "      <td>[none]</td>\n",
       "      <td>786088</td>\n",
       "      <td>4305</td>\n",
       "      <td>58932</td>\n",
       "      <td>0</td>\n",
       "      <td>https://i.ytimg.com/vi/8I_NkJ8VTEI/default.jpg</td>\n",
       "      <td>True</td>\n",
       "      <td>False</td>\n",
       "      <td>False</td>\n",
       "      <td>December 13, 2017 | Montgomery, Alabama</td>\n",
       "      <td>6</td>\n",
       "      <td>34</td>\n",
       "      <td>39</td>\n",
       "      <td>-54627</td>\n",
       "    </tr>\n",
       "    <tr>\n",
       "      <td>7594</td>\n",
       "      <td>LFhT6H6pRWg</td>\n",
       "      <td>2017-12-21</td>\n",
       "      <td>PSA from Chairman of the FCC Ajit Pai</td>\n",
       "      <td>Daily Caller</td>\n",
       "      <td>22</td>\n",
       "      <td>2017-12-13</td>\n",
       "      <td>thedc|\"dc\"|\"washington dc\"|\"washington\"|\"the d...</td>\n",
       "      <td>1205682</td>\n",
       "      <td>9572</td>\n",
       "      <td>228426</td>\n",
       "      <td>29634</td>\n",
       "      <td>https://i.ytimg.com/vi/LFhT6H6pRWg/default.jpg</td>\n",
       "      <td>False</td>\n",
       "      <td>False</td>\n",
       "      <td>False</td>\n",
       "      <td>Ajit Pai has been at the heart of the net neut...</td>\n",
       "      <td>8</td>\n",
       "      <td>37</td>\n",
       "      <td>720</td>\n",
       "      <td>-218854</td>\n",
       "    </tr>\n",
       "    <tr>\n",
       "      <td>7595</td>\n",
       "      <td>8I_NkJ8VTEI</td>\n",
       "      <td>2017-12-21</td>\n",
       "      <td>Judge Roy Moore Campaign Statement</td>\n",
       "      <td>Roy Moore for Senate</td>\n",
       "      <td>22</td>\n",
       "      <td>2017-12-14</td>\n",
       "      <td>[none]</td>\n",
       "      <td>789818</td>\n",
       "      <td>4329</td>\n",
       "      <td>59157</td>\n",
       "      <td>0</td>\n",
       "      <td>https://i.ytimg.com/vi/8I_NkJ8VTEI/default.jpg</td>\n",
       "      <td>True</td>\n",
       "      <td>False</td>\n",
       "      <td>False</td>\n",
       "      <td>December 13, 2017 | Montgomery, Alabama</td>\n",
       "      <td>7</td>\n",
       "      <td>34</td>\n",
       "      <td>39</td>\n",
       "      <td>-54828</td>\n",
       "    </tr>\n",
       "    <tr>\n",
       "      <td>10415</td>\n",
       "      <td>QwZT7T-TXT0</td>\n",
       "      <td>2018-05-01</td>\n",
       "      <td>So Sorry.</td>\n",
       "      <td>Logan Paul Vlogs</td>\n",
       "      <td>24</td>\n",
       "      <td>2018-01-02</td>\n",
       "      <td>logan paul vlog|\"logan paul\"|\"logan\"|\"paul\"|\"o...</td>\n",
       "      <td>28407744</td>\n",
       "      <td>1204072</td>\n",
       "      <td>1278887</td>\n",
       "      <td>1238817</td>\n",
       "      <td>https://i.ytimg.com/vi/QwZT7T-TXT0/default.jpg</td>\n",
       "      <td>False</td>\n",
       "      <td>False</td>\n",
       "      <td>False</td>\n",
       "      <td>NaN</td>\n",
       "      <td>119</td>\n",
       "      <td>9</td>\n",
       "      <td>3</td>\n",
       "      <td>-74815</td>\n",
       "    </tr>\n",
       "    <tr>\n",
       "      <td>10638</td>\n",
       "      <td>QwZT7T-TXT0</td>\n",
       "      <td>2018-06-01</td>\n",
       "      <td>So Sorry.</td>\n",
       "      <td>Logan Paul Vlogs</td>\n",
       "      <td>24</td>\n",
       "      <td>2018-01-02</td>\n",
       "      <td>logan paul vlog|\"logan paul\"|\"logan\"|\"paul\"|\"o...</td>\n",
       "      <td>31675237</td>\n",
       "      <td>1275142</td>\n",
       "      <td>1415777</td>\n",
       "      <td>1194249</td>\n",
       "      <td>https://i.ytimg.com/vi/QwZT7T-TXT0/default.jpg</td>\n",
       "      <td>False</td>\n",
       "      <td>False</td>\n",
       "      <td>False</td>\n",
       "      <td>NaN</td>\n",
       "      <td>150</td>\n",
       "      <td>9</td>\n",
       "      <td>3</td>\n",
       "      <td>-140635</td>\n",
       "    </tr>\n",
       "    <tr>\n",
       "      <td>10862</td>\n",
       "      <td>QwZT7T-TXT0</td>\n",
       "      <td>2018-07-01</td>\n",
       "      <td>So Sorry.</td>\n",
       "      <td>Logan Paul Vlogs</td>\n",
       "      <td>24</td>\n",
       "      <td>2018-01-02</td>\n",
       "      <td>logan paul vlog|\"logan paul\"|\"logan\"|\"paul\"|\"o...</td>\n",
       "      <td>33998325</td>\n",
       "      <td>1325296</td>\n",
       "      <td>1517520</td>\n",
       "      <td>1281094</td>\n",
       "      <td>https://i.ytimg.com/vi/QwZT7T-TXT0/default.jpg</td>\n",
       "      <td>False</td>\n",
       "      <td>False</td>\n",
       "      <td>False</td>\n",
       "      <td>NaN</td>\n",
       "      <td>180</td>\n",
       "      <td>9</td>\n",
       "      <td>3</td>\n",
       "      <td>-192224</td>\n",
       "    </tr>\n",
       "    <tr>\n",
       "      <td>11096</td>\n",
       "      <td>QwZT7T-TXT0</td>\n",
       "      <td>2018-08-01</td>\n",
       "      <td>So Sorry.</td>\n",
       "      <td>Logan Paul Vlogs</td>\n",
       "      <td>24</td>\n",
       "      <td>2018-01-02</td>\n",
       "      <td>logan paul vlog|\"logan paul\"|\"logan\"|\"paul\"|\"o...</td>\n",
       "      <td>35983135</td>\n",
       "      <td>1370845</td>\n",
       "      <td>1611043</td>\n",
       "      <td>1321281</td>\n",
       "      <td>https://i.ytimg.com/vi/QwZT7T-TXT0/default.jpg</td>\n",
       "      <td>False</td>\n",
       "      <td>False</td>\n",
       "      <td>False</td>\n",
       "      <td>NaN</td>\n",
       "      <td>211</td>\n",
       "      <td>9</td>\n",
       "      <td>3</td>\n",
       "      <td>-240198</td>\n",
       "    </tr>\n",
       "    <tr>\n",
       "      <td>11323</td>\n",
       "      <td>QwZT7T-TXT0</td>\n",
       "      <td>2018-09-01</td>\n",
       "      <td>So Sorry.</td>\n",
       "      <td>Logan Paul Vlogs</td>\n",
       "      <td>24</td>\n",
       "      <td>2018-01-02</td>\n",
       "      <td>logan paul vlog|\"logan paul\"|\"logan\"|\"paul\"|\"o...</td>\n",
       "      <td>37539570</td>\n",
       "      <td>1402578</td>\n",
       "      <td>1674420</td>\n",
       "      <td>1361580</td>\n",
       "      <td>https://i.ytimg.com/vi/QwZT7T-TXT0/default.jpg</td>\n",
       "      <td>False</td>\n",
       "      <td>False</td>\n",
       "      <td>False</td>\n",
       "      <td>NaN</td>\n",
       "      <td>242</td>\n",
       "      <td>9</td>\n",
       "      <td>3</td>\n",
       "      <td>-271842</td>\n",
       "    </tr>\n",
       "    <tr>\n",
       "      <td>19376</td>\n",
       "      <td>V5cOvyDpWfM</td>\n",
       "      <td>2018-02-21</td>\n",
       "      <td>Fergie Performs The U.S. National Anthem / 201...</td>\n",
       "      <td>MLG Highlights</td>\n",
       "      <td>17</td>\n",
       "      <td>2018-02-19</td>\n",
       "      <td>mlg highlights|\"mlg\"|\"basketball\"|\"highlights\"...</td>\n",
       "      <td>14647590</td>\n",
       "      <td>32892</td>\n",
       "      <td>117128</td>\n",
       "      <td>44404</td>\n",
       "      <td>https://i.ytimg.com/vi/V5cOvyDpWfM/default.jpg</td>\n",
       "      <td>False</td>\n",
       "      <td>False</td>\n",
       "      <td>False</td>\n",
       "      <td>🏀Fergie Performs The U.S. National Anthem / 20...</td>\n",
       "      <td>2</td>\n",
       "      <td>65</td>\n",
       "      <td>1016</td>\n",
       "      <td>-84236</td>\n",
       "    </tr>\n",
       "    <tr>\n",
       "      <td>19597</td>\n",
       "      <td>V5cOvyDpWfM</td>\n",
       "      <td>2018-02-22</td>\n",
       "      <td>Fergie Performs The U.S. National Anthem / 201...</td>\n",
       "      <td>MLG Highlights</td>\n",
       "      <td>17</td>\n",
       "      <td>2018-02-19</td>\n",
       "      <td>mlg highlights|\"mlg\"|\"basketball\"|\"highlights\"...</td>\n",
       "      <td>17030271</td>\n",
       "      <td>41743</td>\n",
       "      <td>141315</td>\n",
       "      <td>53209</td>\n",
       "      <td>https://i.ytimg.com/vi/V5cOvyDpWfM/default.jpg</td>\n",
       "      <td>False</td>\n",
       "      <td>False</td>\n",
       "      <td>False</td>\n",
       "      <td>🏀Fergie Performs The U.S. National Anthem / 20...</td>\n",
       "      <td>3</td>\n",
       "      <td>65</td>\n",
       "      <td>1016</td>\n",
       "      <td>-99572</td>\n",
       "    </tr>\n",
       "    <tr>\n",
       "      <td>19824</td>\n",
       "      <td>V5cOvyDpWfM</td>\n",
       "      <td>2018-02-23</td>\n",
       "      <td>Fergie Performs The U.S. National Anthem / 201...</td>\n",
       "      <td>MLG Highlights</td>\n",
       "      <td>17</td>\n",
       "      <td>2018-02-19</td>\n",
       "      <td>mlg highlights|\"mlg\"|\"basketball\"|\"highlights\"...</td>\n",
       "      <td>18226395</td>\n",
       "      <td>46374</td>\n",
       "      <td>151442</td>\n",
       "      <td>56686</td>\n",
       "      <td>https://i.ytimg.com/vi/V5cOvyDpWfM/default.jpg</td>\n",
       "      <td>False</td>\n",
       "      <td>False</td>\n",
       "      <td>False</td>\n",
       "      <td>🏀Fergie Performs The U.S. National Anthem / 20...</td>\n",
       "      <td>4</td>\n",
       "      <td>65</td>\n",
       "      <td>1016</td>\n",
       "      <td>-105068</td>\n",
       "    </tr>\n",
       "    <tr>\n",
       "      <td>20267</td>\n",
       "      <td>V5cOvyDpWfM</td>\n",
       "      <td>2018-02-25</td>\n",
       "      <td>Fergie Performs The U.S. National Anthem / 201...</td>\n",
       "      <td>MLG Highlights</td>\n",
       "      <td>17</td>\n",
       "      <td>2018-02-19</td>\n",
       "      <td>mlg highlights|\"mlg\"|\"basketball\"|\"highlights\"...</td>\n",
       "      <td>19890243</td>\n",
       "      <td>53817</td>\n",
       "      <td>164691</td>\n",
       "      <td>60921</td>\n",
       "      <td>https://i.ytimg.com/vi/V5cOvyDpWfM/default.jpg</td>\n",
       "      <td>False</td>\n",
       "      <td>False</td>\n",
       "      <td>False</td>\n",
       "      <td>🏀Fergie Performs The U.S. National Anthem / 20...</td>\n",
       "      <td>6</td>\n",
       "      <td>65</td>\n",
       "      <td>1016</td>\n",
       "      <td>-110874</td>\n",
       "    </tr>\n",
       "    <tr>\n",
       "      <td>20483</td>\n",
       "      <td>V5cOvyDpWfM</td>\n",
       "      <td>2018-02-26</td>\n",
       "      <td>Fergie Performs The U.S. National Anthem / 201...</td>\n",
       "      <td>MLG Highlights</td>\n",
       "      <td>17</td>\n",
       "      <td>2018-02-19</td>\n",
       "      <td>mlg highlights|\"mlg\"|\"basketball\"|\"highlights\"...</td>\n",
       "      <td>20393752</td>\n",
       "      <td>56243</td>\n",
       "      <td>169128</td>\n",
       "      <td>62623</td>\n",
       "      <td>https://i.ytimg.com/vi/V5cOvyDpWfM/default.jpg</td>\n",
       "      <td>False</td>\n",
       "      <td>False</td>\n",
       "      <td>False</td>\n",
       "      <td>🏀Fergie Performs The U.S. National Anthem / 20...</td>\n",
       "      <td>7</td>\n",
       "      <td>65</td>\n",
       "      <td>1016</td>\n",
       "      <td>-112885</td>\n",
       "    </tr>\n",
       "    <tr>\n",
       "      <td>20708</td>\n",
       "      <td>V5cOvyDpWfM</td>\n",
       "      <td>2018-02-27</td>\n",
       "      <td>Fergie Performs The U.S. National Anthem / 201...</td>\n",
       "      <td>MLG Highlights</td>\n",
       "      <td>17</td>\n",
       "      <td>2018-02-19</td>\n",
       "      <td>mlg highlights|\"mlg\"|\"basketball\"|\"highlights\"...</td>\n",
       "      <td>20747860</td>\n",
       "      <td>57929</td>\n",
       "      <td>174044</td>\n",
       "      <td>64134</td>\n",
       "      <td>https://i.ytimg.com/vi/V5cOvyDpWfM/default.jpg</td>\n",
       "      <td>False</td>\n",
       "      <td>False</td>\n",
       "      <td>False</td>\n",
       "      <td>🏀Fergie Performs The U.S. National Anthem / 20...</td>\n",
       "      <td>8</td>\n",
       "      <td>65</td>\n",
       "      <td>1016</td>\n",
       "      <td>-116115</td>\n",
       "    </tr>\n",
       "    <tr>\n",
       "      <td>20939</td>\n",
       "      <td>V5cOvyDpWfM</td>\n",
       "      <td>2018-02-28</td>\n",
       "      <td>Fergie Performs The U.S. National Anthem / 201...</td>\n",
       "      <td>MLG Highlights</td>\n",
       "      <td>17</td>\n",
       "      <td>2018-02-19</td>\n",
       "      <td>mlg highlights|\"mlg\"|\"basketball\"|\"highlights\"...</td>\n",
       "      <td>21005589</td>\n",
       "      <td>59281</td>\n",
       "      <td>176903</td>\n",
       "      <td>65181</td>\n",
       "      <td>https://i.ytimg.com/vi/V5cOvyDpWfM/default.jpg</td>\n",
       "      <td>False</td>\n",
       "      <td>False</td>\n",
       "      <td>False</td>\n",
       "      <td>🏀Fergie Performs The U.S. National Anthem / 20...</td>\n",
       "      <td>9</td>\n",
       "      <td>65</td>\n",
       "      <td>1016</td>\n",
       "      <td>-117622</td>\n",
       "    </tr>\n",
       "    <tr>\n",
       "      <td>39549</td>\n",
       "      <td>GnGPAYvve1A</td>\n",
       "      <td>2018-08-06</td>\n",
       "      <td>#ProudToCreate: Pride 2018</td>\n",
       "      <td>YouTube Spotlight</td>\n",
       "      <td>24</td>\n",
       "      <td>2018-06-07</td>\n",
       "      <td>#Pride|\"#ProudToCreate\"|\"#ProudToBe\"|\"#ProudTo...</td>\n",
       "      <td>597669</td>\n",
       "      <td>29781</td>\n",
       "      <td>71617</td>\n",
       "      <td>55110</td>\n",
       "      <td>https://i.ytimg.com/vi/GnGPAYvve1A/default.jpg</td>\n",
       "      <td>False</td>\n",
       "      <td>False</td>\n",
       "      <td>False</td>\n",
       "      <td>You don't just imagine a better future – you c...</td>\n",
       "      <td>60</td>\n",
       "      <td>26</td>\n",
       "      <td>1325</td>\n",
       "      <td>-41836</td>\n",
       "    </tr>\n",
       "    <tr>\n",
       "      <td>39754</td>\n",
       "      <td>GnGPAYvve1A</td>\n",
       "      <td>2018-09-06</td>\n",
       "      <td>#ProudToCreate: Pride 2018</td>\n",
       "      <td>YouTube Spotlight</td>\n",
       "      <td>24</td>\n",
       "      <td>2018-06-07</td>\n",
       "      <td>#Pride|\"#ProudToCreate\"|\"#ProudToBe\"|\"#ProudTo...</td>\n",
       "      <td>1074997</td>\n",
       "      <td>43153</td>\n",
       "      <td>110997</td>\n",
       "      <td>81289</td>\n",
       "      <td>https://i.ytimg.com/vi/GnGPAYvve1A/default.jpg</td>\n",
       "      <td>False</td>\n",
       "      <td>False</td>\n",
       "      <td>False</td>\n",
       "      <td>You don't just imagine a better future – you c...</td>\n",
       "      <td>91</td>\n",
       "      <td>26</td>\n",
       "      <td>1369</td>\n",
       "      <td>-67844</td>\n",
       "    </tr>\n",
       "    <tr>\n",
       "      <td>39968</td>\n",
       "      <td>GnGPAYvve1A</td>\n",
       "      <td>2018-10-06</td>\n",
       "      <td>#ProudToCreate: Pride 2018</td>\n",
       "      <td>YouTube Spotlight</td>\n",
       "      <td>24</td>\n",
       "      <td>2018-06-07</td>\n",
       "      <td>#Pride|\"#ProudToCreate\"|\"#ProudToBe\"|\"#ProudTo...</td>\n",
       "      <td>1227495</td>\n",
       "      <td>46556</td>\n",
       "      <td>121865</td>\n",
       "      <td>87199</td>\n",
       "      <td>https://i.ytimg.com/vi/GnGPAYvve1A/default.jpg</td>\n",
       "      <td>False</td>\n",
       "      <td>False</td>\n",
       "      <td>False</td>\n",
       "      <td>You don't just imagine a better future – you c...</td>\n",
       "      <td>121</td>\n",
       "      <td>26</td>\n",
       "      <td>1369</td>\n",
       "      <td>-75309</td>\n",
       "    </tr>\n",
       "    <tr>\n",
       "      <td>40171</td>\n",
       "      <td>GnGPAYvve1A</td>\n",
       "      <td>2018-11-06</td>\n",
       "      <td>#ProudToCreate: Pride 2018</td>\n",
       "      <td>YouTube Spotlight</td>\n",
       "      <td>24</td>\n",
       "      <td>2018-06-07</td>\n",
       "      <td>#Pride|\"#ProudToCreate\"|\"#ProudToBe\"|\"#ProudTo...</td>\n",
       "      <td>1253843</td>\n",
       "      <td>47073</td>\n",
       "      <td>123424</td>\n",
       "      <td>88066</td>\n",
       "      <td>https://i.ytimg.com/vi/GnGPAYvve1A/default.jpg</td>\n",
       "      <td>False</td>\n",
       "      <td>False</td>\n",
       "      <td>False</td>\n",
       "      <td>You don't just imagine a better future – you c...</td>\n",
       "      <td>152</td>\n",
       "      <td>26</td>\n",
       "      <td>1369</td>\n",
       "      <td>-76351</td>\n",
       "    </tr>\n",
       "    <tr>\n",
       "      <td>40388</td>\n",
       "      <td>GnGPAYvve1A</td>\n",
       "      <td>2018-12-06</td>\n",
       "      <td>#ProudToCreate: Pride 2018</td>\n",
       "      <td>YouTube Spotlight</td>\n",
       "      <td>24</td>\n",
       "      <td>2018-06-07</td>\n",
       "      <td>#Pride|\"#ProudToCreate\"|\"#ProudToBe\"|\"#ProudTo...</td>\n",
       "      <td>1291035</td>\n",
       "      <td>47762</td>\n",
       "      <td>125583</td>\n",
       "      <td>89296</td>\n",
       "      <td>https://i.ytimg.com/vi/GnGPAYvve1A/default.jpg</td>\n",
       "      <td>False</td>\n",
       "      <td>False</td>\n",
       "      <td>False</td>\n",
       "      <td>You don't just imagine a better future – you c...</td>\n",
       "      <td>182</td>\n",
       "      <td>26</td>\n",
       "      <td>1369</td>\n",
       "      <td>-77821</td>\n",
       "    </tr>\n",
       "    <tr>\n",
       "      <td>40597</td>\n",
       "      <td>GnGPAYvve1A</td>\n",
       "      <td>2018-06-13</td>\n",
       "      <td>#ProudToCreate: Pride 2018</td>\n",
       "      <td>YouTube Spotlight</td>\n",
       "      <td>24</td>\n",
       "      <td>2018-06-07</td>\n",
       "      <td>#Pride|\"#ProudToCreate\"|\"#ProudToBe\"|\"#ProudTo...</td>\n",
       "      <td>1315418</td>\n",
       "      <td>48135</td>\n",
       "      <td>126480</td>\n",
       "      <td>89956</td>\n",
       "      <td>https://i.ytimg.com/vi/GnGPAYvve1A/default.jpg</td>\n",
       "      <td>False</td>\n",
       "      <td>False</td>\n",
       "      <td>False</td>\n",
       "      <td>You don't just imagine a better future – you c...</td>\n",
       "      <td>6</td>\n",
       "      <td>26</td>\n",
       "      <td>1369</td>\n",
       "      <td>-78345</td>\n",
       "    </tr>\n",
       "    <tr>\n",
       "      <td>40809</td>\n",
       "      <td>GnGPAYvve1A</td>\n",
       "      <td>2018-06-14</td>\n",
       "      <td>#ProudToCreate: Pride 2018</td>\n",
       "      <td>YouTube Spotlight</td>\n",
       "      <td>24</td>\n",
       "      <td>2018-06-07</td>\n",
       "      <td>#Pride|\"#ProudToCreate\"|\"#ProudToBe\"|\"#ProudTo...</td>\n",
       "      <td>1329391</td>\n",
       "      <td>48386</td>\n",
       "      <td>126931</td>\n",
       "      <td>90365</td>\n",
       "      <td>https://i.ytimg.com/vi/GnGPAYvve1A/default.jpg</td>\n",
       "      <td>False</td>\n",
       "      <td>False</td>\n",
       "      <td>False</td>\n",
       "      <td>You don't just imagine a better future – you c...</td>\n",
       "      <td>7</td>\n",
       "      <td>26</td>\n",
       "      <td>1369</td>\n",
       "      <td>-78545</td>\n",
       "    </tr>\n",
       "  </tbody>\n",
       "</table>\n",
       "</div>"
      ],
      "text/plain": [
       "          video_id trending_date  \\\n",
       "6201   8d_202l55LU    2017-12-15   \n",
       "6410   8d_202l55LU    2017-12-16   \n",
       "6421   8I_NkJ8VTEI    2017-12-16   \n",
       "6621   8d_202l55LU    2017-12-17   \n",
       "6631   8I_NkJ8VTEI    2017-12-17   \n",
       "6856   8d_202l55LU    2017-12-18   \n",
       "6871   8I_NkJ8VTEI    2017-12-18   \n",
       "7109   8I_NkJ8VTEI    2017-12-19   \n",
       "7116   LFhT6H6pRWg    2017-12-19   \n",
       "7357   LFhT6H6pRWg    2017-12-20   \n",
       "7358   8I_NkJ8VTEI    2017-12-20   \n",
       "7594   LFhT6H6pRWg    2017-12-21   \n",
       "7595   8I_NkJ8VTEI    2017-12-21   \n",
       "10415  QwZT7T-TXT0    2018-05-01   \n",
       "10638  QwZT7T-TXT0    2018-06-01   \n",
       "10862  QwZT7T-TXT0    2018-07-01   \n",
       "11096  QwZT7T-TXT0    2018-08-01   \n",
       "11323  QwZT7T-TXT0    2018-09-01   \n",
       "19376  V5cOvyDpWfM    2018-02-21   \n",
       "19597  V5cOvyDpWfM    2018-02-22   \n",
       "19824  V5cOvyDpWfM    2018-02-23   \n",
       "20267  V5cOvyDpWfM    2018-02-25   \n",
       "20483  V5cOvyDpWfM    2018-02-26   \n",
       "20708  V5cOvyDpWfM    2018-02-27   \n",
       "20939  V5cOvyDpWfM    2018-02-28   \n",
       "39549  GnGPAYvve1A    2018-08-06   \n",
       "39754  GnGPAYvve1A    2018-09-06   \n",
       "39968  GnGPAYvve1A    2018-10-06   \n",
       "40171  GnGPAYvve1A    2018-11-06   \n",
       "40388  GnGPAYvve1A    2018-12-06   \n",
       "40597  GnGPAYvve1A    2018-06-13   \n",
       "40809  GnGPAYvve1A    2018-06-14   \n",
       "\n",
       "                                                   title  \\\n",
       "6201            The FCC repeals its net neutrality rules   \n",
       "6410            The FCC repeals its net neutrality rules   \n",
       "6421                  Judge Roy Moore Campaign Statement   \n",
       "6621            The FCC repeals its net neutrality rules   \n",
       "6631                  Judge Roy Moore Campaign Statement   \n",
       "6856            The FCC repeals its net neutrality rules   \n",
       "6871                  Judge Roy Moore Campaign Statement   \n",
       "7109                  Judge Roy Moore Campaign Statement   \n",
       "7116               PSA from Chairman of the FCC Ajit Pai   \n",
       "7357               PSA from Chairman of the FCC Ajit Pai   \n",
       "7358                  Judge Roy Moore Campaign Statement   \n",
       "7594               PSA from Chairman of the FCC Ajit Pai   \n",
       "7595                  Judge Roy Moore Campaign Statement   \n",
       "10415                                          So Sorry.   \n",
       "10638                                          So Sorry.   \n",
       "10862                                          So Sorry.   \n",
       "11096                                          So Sorry.   \n",
       "11323                                          So Sorry.   \n",
       "19376  Fergie Performs The U.S. National Anthem / 201...   \n",
       "19597  Fergie Performs The U.S. National Anthem / 201...   \n",
       "19824  Fergie Performs The U.S. National Anthem / 201...   \n",
       "20267  Fergie Performs The U.S. National Anthem / 201...   \n",
       "20483  Fergie Performs The U.S. National Anthem / 201...   \n",
       "20708  Fergie Performs The U.S. National Anthem / 201...   \n",
       "20939  Fergie Performs The U.S. National Anthem / 201...   \n",
       "39549                         #ProudToCreate: Pride 2018   \n",
       "39754                         #ProudToCreate: Pride 2018   \n",
       "39968                         #ProudToCreate: Pride 2018   \n",
       "40171                         #ProudToCreate: Pride 2018   \n",
       "40388                         #ProudToCreate: Pride 2018   \n",
       "40597                         #ProudToCreate: Pride 2018   \n",
       "40809                         #ProudToCreate: Pride 2018   \n",
       "\n",
       "              channel_title  category_id publish_time  \\\n",
       "6201        Washington Post           25   2017-12-14   \n",
       "6410        Washington Post           25   2017-12-14   \n",
       "6421   Roy Moore for Senate           22   2017-12-14   \n",
       "6621        Washington Post           25   2017-12-14   \n",
       "6631   Roy Moore for Senate           22   2017-12-14   \n",
       "6856        Washington Post           25   2017-12-14   \n",
       "6871   Roy Moore for Senate           22   2017-12-14   \n",
       "7109   Roy Moore for Senate           22   2017-12-14   \n",
       "7116           Daily Caller           22   2017-12-13   \n",
       "7357           Daily Caller           22   2017-12-13   \n",
       "7358   Roy Moore for Senate           22   2017-12-14   \n",
       "7594           Daily Caller           22   2017-12-13   \n",
       "7595   Roy Moore for Senate           22   2017-12-14   \n",
       "10415      Logan Paul Vlogs           24   2018-01-02   \n",
       "10638      Logan Paul Vlogs           24   2018-01-02   \n",
       "10862      Logan Paul Vlogs           24   2018-01-02   \n",
       "11096      Logan Paul Vlogs           24   2018-01-02   \n",
       "11323      Logan Paul Vlogs           24   2018-01-02   \n",
       "19376        MLG Highlights           17   2018-02-19   \n",
       "19597        MLG Highlights           17   2018-02-19   \n",
       "19824        MLG Highlights           17   2018-02-19   \n",
       "20267        MLG Highlights           17   2018-02-19   \n",
       "20483        MLG Highlights           17   2018-02-19   \n",
       "20708        MLG Highlights           17   2018-02-19   \n",
       "20939        MLG Highlights           17   2018-02-19   \n",
       "39549     YouTube Spotlight           24   2018-06-07   \n",
       "39754     YouTube Spotlight           24   2018-06-07   \n",
       "39968     YouTube Spotlight           24   2018-06-07   \n",
       "40171     YouTube Spotlight           24   2018-06-07   \n",
       "40388     YouTube Spotlight           24   2018-06-07   \n",
       "40597     YouTube Spotlight           24   2018-06-07   \n",
       "40809     YouTube Spotlight           24   2018-06-07   \n",
       "\n",
       "                                                    tags     views    likes  \\\n",
       "6201   fcc net neutrality|\"breaking news video\"|\"vide...    985179     4870   \n",
       "6410   fcc net neutrality|\"breaking news video\"|\"vide...   1192501     5707   \n",
       "6421                                              [none]    708489     3960   \n",
       "6621   fcc net neutrality|\"breaking news video\"|\"vide...   1242998     5884   \n",
       "6631                                              [none]    753386     4167   \n",
       "6856   fcc net neutrality|\"breaking news video\"|\"vide...   1263104     5930   \n",
       "6871                                              [none]    773357     4234   \n",
       "7109                                              [none]    781487     4280   \n",
       "7116   thedc|\"dc\"|\"washington dc\"|\"washington\"|\"the d...   1142585     9100   \n",
       "7357   thedc|\"dc\"|\"washington dc\"|\"washington\"|\"the d...   1179072     9368   \n",
       "7358                                              [none]    786088     4305   \n",
       "7594   thedc|\"dc\"|\"washington dc\"|\"washington\"|\"the d...   1205682     9572   \n",
       "7595                                              [none]    789818     4329   \n",
       "10415  logan paul vlog|\"logan paul\"|\"logan\"|\"paul\"|\"o...  28407744  1204072   \n",
       "10638  logan paul vlog|\"logan paul\"|\"logan\"|\"paul\"|\"o...  31675237  1275142   \n",
       "10862  logan paul vlog|\"logan paul\"|\"logan\"|\"paul\"|\"o...  33998325  1325296   \n",
       "11096  logan paul vlog|\"logan paul\"|\"logan\"|\"paul\"|\"o...  35983135  1370845   \n",
       "11323  logan paul vlog|\"logan paul\"|\"logan\"|\"paul\"|\"o...  37539570  1402578   \n",
       "19376  mlg highlights|\"mlg\"|\"basketball\"|\"highlights\"...  14647590    32892   \n",
       "19597  mlg highlights|\"mlg\"|\"basketball\"|\"highlights\"...  17030271    41743   \n",
       "19824  mlg highlights|\"mlg\"|\"basketball\"|\"highlights\"...  18226395    46374   \n",
       "20267  mlg highlights|\"mlg\"|\"basketball\"|\"highlights\"...  19890243    53817   \n",
       "20483  mlg highlights|\"mlg\"|\"basketball\"|\"highlights\"...  20393752    56243   \n",
       "20708  mlg highlights|\"mlg\"|\"basketball\"|\"highlights\"...  20747860    57929   \n",
       "20939  mlg highlights|\"mlg\"|\"basketball\"|\"highlights\"...  21005589    59281   \n",
       "39549  #Pride|\"#ProudToCreate\"|\"#ProudToBe\"|\"#ProudTo...    597669    29781   \n",
       "39754  #Pride|\"#ProudToCreate\"|\"#ProudToBe\"|\"#ProudTo...   1074997    43153   \n",
       "39968  #Pride|\"#ProudToCreate\"|\"#ProudToBe\"|\"#ProudTo...   1227495    46556   \n",
       "40171  #Pride|\"#ProudToCreate\"|\"#ProudToBe\"|\"#ProudTo...   1253843    47073   \n",
       "40388  #Pride|\"#ProudToCreate\"|\"#ProudToBe\"|\"#ProudTo...   1291035    47762   \n",
       "40597  #Pride|\"#ProudToCreate\"|\"#ProudToBe\"|\"#ProudTo...   1315418    48135   \n",
       "40809  #Pride|\"#ProudToCreate\"|\"#ProudToBe\"|\"#ProudTo...   1329391    48386   \n",
       "\n",
       "       dislikes  comment_count  \\\n",
       "6201     110707          19843   \n",
       "6410     126649          23426   \n",
       "6421      54061              0   \n",
       "6621     130836          23297   \n",
       "6631      57285              0   \n",
       "6856     132439          23543   \n",
       "6871      58327              0   \n",
       "7109      58726              0   \n",
       "7116     218841          28013   \n",
       "7357     224152          29063   \n",
       "7358      58932              0   \n",
       "7594     228426          29634   \n",
       "7595      59157              0   \n",
       "10415   1278887        1238817   \n",
       "10638   1415777        1194249   \n",
       "10862   1517520        1281094   \n",
       "11096   1611043        1321281   \n",
       "11323   1674420        1361580   \n",
       "19376    117128          44404   \n",
       "19597    141315          53209   \n",
       "19824    151442          56686   \n",
       "20267    164691          60921   \n",
       "20483    169128          62623   \n",
       "20708    174044          64134   \n",
       "20939    176903          65181   \n",
       "39549     71617          55110   \n",
       "39754    110997          81289   \n",
       "39968    121865          87199   \n",
       "40171    123424          88066   \n",
       "40388    125583          89296   \n",
       "40597    126480          89956   \n",
       "40809    126931          90365   \n",
       "\n",
       "                                       thumbnail_link  comments_disabled  \\\n",
       "6201   https://i.ytimg.com/vi/8d_202l55LU/default.jpg              False   \n",
       "6410   https://i.ytimg.com/vi/8d_202l55LU/default.jpg              False   \n",
       "6421   https://i.ytimg.com/vi/8I_NkJ8VTEI/default.jpg               True   \n",
       "6621   https://i.ytimg.com/vi/8d_202l55LU/default.jpg              False   \n",
       "6631   https://i.ytimg.com/vi/8I_NkJ8VTEI/default.jpg               True   \n",
       "6856   https://i.ytimg.com/vi/8d_202l55LU/default.jpg              False   \n",
       "6871   https://i.ytimg.com/vi/8I_NkJ8VTEI/default.jpg               True   \n",
       "7109   https://i.ytimg.com/vi/8I_NkJ8VTEI/default.jpg               True   \n",
       "7116   https://i.ytimg.com/vi/LFhT6H6pRWg/default.jpg              False   \n",
       "7357   https://i.ytimg.com/vi/LFhT6H6pRWg/default.jpg              False   \n",
       "7358   https://i.ytimg.com/vi/8I_NkJ8VTEI/default.jpg               True   \n",
       "7594   https://i.ytimg.com/vi/LFhT6H6pRWg/default.jpg              False   \n",
       "7595   https://i.ytimg.com/vi/8I_NkJ8VTEI/default.jpg               True   \n",
       "10415  https://i.ytimg.com/vi/QwZT7T-TXT0/default.jpg              False   \n",
       "10638  https://i.ytimg.com/vi/QwZT7T-TXT0/default.jpg              False   \n",
       "10862  https://i.ytimg.com/vi/QwZT7T-TXT0/default.jpg              False   \n",
       "11096  https://i.ytimg.com/vi/QwZT7T-TXT0/default.jpg              False   \n",
       "11323  https://i.ytimg.com/vi/QwZT7T-TXT0/default.jpg              False   \n",
       "19376  https://i.ytimg.com/vi/V5cOvyDpWfM/default.jpg              False   \n",
       "19597  https://i.ytimg.com/vi/V5cOvyDpWfM/default.jpg              False   \n",
       "19824  https://i.ytimg.com/vi/V5cOvyDpWfM/default.jpg              False   \n",
       "20267  https://i.ytimg.com/vi/V5cOvyDpWfM/default.jpg              False   \n",
       "20483  https://i.ytimg.com/vi/V5cOvyDpWfM/default.jpg              False   \n",
       "20708  https://i.ytimg.com/vi/V5cOvyDpWfM/default.jpg              False   \n",
       "20939  https://i.ytimg.com/vi/V5cOvyDpWfM/default.jpg              False   \n",
       "39549  https://i.ytimg.com/vi/GnGPAYvve1A/default.jpg              False   \n",
       "39754  https://i.ytimg.com/vi/GnGPAYvve1A/default.jpg              False   \n",
       "39968  https://i.ytimg.com/vi/GnGPAYvve1A/default.jpg              False   \n",
       "40171  https://i.ytimg.com/vi/GnGPAYvve1A/default.jpg              False   \n",
       "40388  https://i.ytimg.com/vi/GnGPAYvve1A/default.jpg              False   \n",
       "40597  https://i.ytimg.com/vi/GnGPAYvve1A/default.jpg              False   \n",
       "40809  https://i.ytimg.com/vi/GnGPAYvve1A/default.jpg              False   \n",
       "\n",
       "       ratings_disabled  video_error_or_removed  \\\n",
       "6201              False                   False   \n",
       "6410              False                   False   \n",
       "6421              False                   False   \n",
       "6621              False                   False   \n",
       "6631              False                   False   \n",
       "6856              False                   False   \n",
       "6871              False                   False   \n",
       "7109              False                   False   \n",
       "7116              False                   False   \n",
       "7357              False                   False   \n",
       "7358              False                   False   \n",
       "7594              False                   False   \n",
       "7595              False                   False   \n",
       "10415             False                   False   \n",
       "10638             False                   False   \n",
       "10862             False                   False   \n",
       "11096             False                   False   \n",
       "11323             False                   False   \n",
       "19376             False                   False   \n",
       "19597             False                   False   \n",
       "19824             False                   False   \n",
       "20267             False                   False   \n",
       "20483             False                   False   \n",
       "20708             False                   False   \n",
       "20939             False                   False   \n",
       "39549             False                   False   \n",
       "39754             False                   False   \n",
       "39968             False                   False   \n",
       "40171             False                   False   \n",
       "40388             False                   False   \n",
       "40597             False                   False   \n",
       "40809             False                   False   \n",
       "\n",
       "                                             description  trending_gap  \\\n",
       "6201   Federal regulators vote to allow Internet prov...             1   \n",
       "6410   Federal regulators vote to allow Internet prov...             2   \n",
       "6421             December 13, 2017 | Montgomery, Alabama             2   \n",
       "6621   Federal regulators vote to allow Internet prov...             3   \n",
       "6631             December 13, 2017 | Montgomery, Alabama             3   \n",
       "6856   Federal regulators vote to allow Internet prov...             4   \n",
       "6871             December 13, 2017 | Montgomery, Alabama             4   \n",
       "7109             December 13, 2017 | Montgomery, Alabama             5   \n",
       "7116   Ajit Pai has been at the heart of the net neut...             6   \n",
       "7357   Ajit Pai has been at the heart of the net neut...             7   \n",
       "7358             December 13, 2017 | Montgomery, Alabama             6   \n",
       "7594   Ajit Pai has been at the heart of the net neut...             8   \n",
       "7595             December 13, 2017 | Montgomery, Alabama             7   \n",
       "10415                                                NaN           119   \n",
       "10638                                                NaN           150   \n",
       "10862                                                NaN           180   \n",
       "11096                                                NaN           211   \n",
       "11323                                                NaN           242   \n",
       "19376  🏀Fergie Performs The U.S. National Anthem / 20...             2   \n",
       "19597  🏀Fergie Performs The U.S. National Anthem / 20...             3   \n",
       "19824  🏀Fergie Performs The U.S. National Anthem / 20...             4   \n",
       "20267  🏀Fergie Performs The U.S. National Anthem / 20...             6   \n",
       "20483  🏀Fergie Performs The U.S. National Anthem / 20...             7   \n",
       "20708  🏀Fergie Performs The U.S. National Anthem / 20...             8   \n",
       "20939  🏀Fergie Performs The U.S. National Anthem / 20...             9   \n",
       "39549  You don't just imagine a better future – you c...            60   \n",
       "39754  You don't just imagine a better future – you c...            91   \n",
       "39968  You don't just imagine a better future – you c...           121   \n",
       "40171  You don't just imagine a better future – you c...           152   \n",
       "40388  You don't just imagine a better future – you c...           182   \n",
       "40597  You don't just imagine a better future – you c...             6   \n",
       "40809  You don't just imagine a better future – you c...             7   \n",
       "\n",
       "       title_total_word  description_total_word  like_delta  \n",
       "6201                 40                     512     -105837  \n",
       "6410                 40                     512     -120942  \n",
       "6421                 34                      39      -50101  \n",
       "6621                 40                     512     -124952  \n",
       "6631                 34                      39      -53118  \n",
       "6856                 40                     512     -126509  \n",
       "6871                 34                      39      -54093  \n",
       "7109                 34                      39      -54446  \n",
       "7116                 37                     720     -209741  \n",
       "7357                 37                     720     -214784  \n",
       "7358                 34                      39      -54627  \n",
       "7594                 37                     720     -218854  \n",
       "7595                 34                      39      -54828  \n",
       "10415                 9                       3      -74815  \n",
       "10638                 9                       3     -140635  \n",
       "10862                 9                       3     -192224  \n",
       "11096                 9                       3     -240198  \n",
       "11323                 9                       3     -271842  \n",
       "19376                65                    1016      -84236  \n",
       "19597                65                    1016      -99572  \n",
       "19824                65                    1016     -105068  \n",
       "20267                65                    1016     -110874  \n",
       "20483                65                    1016     -112885  \n",
       "20708                65                    1016     -116115  \n",
       "20939                65                    1016     -117622  \n",
       "39549                26                    1325      -41836  \n",
       "39754                26                    1369      -67844  \n",
       "39968                26                    1369      -75309  \n",
       "40171                26                    1369      -76351  \n",
       "40388                26                    1369      -77821  \n",
       "40597                26                    1369      -78345  \n",
       "40809                26                    1369      -78545  "
      ]
     },
     "execution_count": 26,
     "metadata": {},
     "output_type": "execute_result"
    }
   ],
   "source": [
    "youtube[(youtube['dislikes']>youtube['likes']) & (youtube['dislikes']>50000)]"
   ]
  },
  {
   "cell_type": "markdown",
   "metadata": {},
   "source": [
    "# New"
   ]
  },
  {
   "cell_type": "code",
   "execution_count": 27,
   "metadata": {
    "scrolled": true
   },
   "outputs": [
    {
     "data": {
      "text/plain": [
       "<matplotlib.axes._subplots.AxesSubplot at 0x1a29327c50>"
      ]
     },
     "execution_count": 27,
     "metadata": {},
     "output_type": "execute_result"
    },
    {
     "data": {
      "image/png": "[encoded data removed]",
      "text/plain": [
       "<Figure size 720x720 with 2 Axes>"
      ]
     },
     "metadata": {
      "needs_background": "light"
     },
     "output_type": "display_data"
    }
   ],
   "source": [
    "youtube_0_delta = youtube[youtube['like_delta']==0]\n",
    "plt.figure(figsize=(10,10))\n",
    "sns.heatmap(youtube_0_delta.corr(),annot=True)"
   ]
  },
  {
   "cell_type": "code",
   "execution_count": 28,
   "metadata": {},
   "outputs": [
    {
     "data": {
      "text/plain": [
       "'3.1.1'"
      ]
     },
     "execution_count": 28,
     "metadata": {},
     "output_type": "execute_result"
    }
   ],
   "source": [
    "import matplotlib\n",
    "matplotlib.__version__"
   ]
  },
  {
   "cell_type": "code",
   "execution_count": 29,
   "metadata": {},
   "outputs": [
    {
     "data": {
      "image/png": "[encoded data removed]",
      "text/plain": [
       "<Figure size 432x288 with 1 Axes>"
      ]
     },
     "metadata": {
      "needs_background": "light"
     },
     "output_type": "display_data"
    },
    {
     "data": {
      "image/png": "[encoded data removed]",
      "text/plain": [
       "<Figure size 432x288 with 1 Axes>"
      ]
     },
     "metadata": {
      "needs_background": "light"
     },
     "output_type": "display_data"
    },
    {
     "data": {
      "image/png": "[encoded data removed]",
      "text/plain": [
       "<Figure size 432x288 with 1 Axes>"
      ]
     },
     "metadata": {
      "needs_background": "light"
     },
     "output_type": "display_data"
    },
    {
     "data": {
      "image/png": "[encoded data removed]",
      "text/plain": [
       "<Figure size 432x288 with 1 Axes>"
      ]
     },
     "metadata": {
      "needs_background": "light"
     },
     "output_type": "display_data"
    },
    {
     "data": {
      "image/png": "[encoded data removed]",
      "text/plain": [
       "<Figure size 432x288 with 1 Axes>"
      ]
     },
     "metadata": {
      "needs_background": "light"
     },
     "output_type": "display_data"
    },
    {
     "data": {
      "image/png": "[encoded data removed]",
      "text/plain": [
       "<Figure size 432x288 with 1 Axes>"
      ]
     },
     "metadata": {
      "needs_background": "light"
     },
     "output_type": "display_data"
    },
    {
     "data": {
      "image/png": "[encoded data removed]",
      "text/plain": [
       "<Figure size 432x288 with 1 Axes>"
      ]
     },
     "metadata": {
      "needs_background": "light"
     },
     "output_type": "display_data"
    },
    {
     "data": {
      "image/png": "[encoded data removed]",
      "text/plain": [
       "<Figure size 432x288 with 1 Axes>"
      ]
     },
     "metadata": {
      "needs_background": "light"
     },
     "output_type": "display_data"
    },
    {
     "data": {
      "image/png": "[encoded data removed]",
      "text/plain": [
       "<Figure size 432x288 with 1 Axes>"
      ]
     },
     "metadata": {
      "needs_background": "light"
     },
     "output_type": "display_data"
    }
   ],
   "source": [
    "for i in youtube_0_delta.select_dtypes('number').columns:\n",
    "    sns.distplot(youtube_0_delta[i],kde=False)\n",
    "    plt.show()"
   ]
  },
  {
   "cell_type": "code",
   "execution_count": 30,
   "metadata": {},
   "outputs": [],
   "source": [
    "youtube_delta=youtube[youtube['like_delta']!=0]"
   ]
  },
  {
   "cell_type": "code",
   "execution_count": 31,
   "metadata": {},
   "outputs": [
    {
     "data": {
      "text/plain": [
       "count    40949.000000\n",
       "mean        31.283523\n",
       "std        170.113133\n",
       "min       -322.000000\n",
       "25%          3.000000\n",
       "50%          6.000000\n",
       "75%         16.000000\n",
       "max       4301.000000\n",
       "Name: trending_gap, dtype: float64"
      ]
     },
     "execution_count": 31,
     "metadata": {},
     "output_type": "execute_result"
    }
   ],
   "source": [
    "youtube['trending_gap'].describe()"
   ]
  },
  {
   "cell_type": "code",
   "execution_count": 32,
   "metadata": {},
   "outputs": [
    {
     "data": {
      "text/plain": [
       "<matplotlib.legend.Legend at 0x1a29bdc410>"
      ]
     },
     "execution_count": 32,
     "metadata": {},
     "output_type": "execute_result"
    },
    {
     "data": {
      "image/png": "[encoded data removed]",
      "text/plain": [
       "<Figure size 576x576 with 1 Axes>"
      ]
     },
     "metadata": {
      "needs_background": "light"
     },
     "output_type": "display_data"
    }
   ],
   "source": [
    "plt.figure(figsize=(8,8))\n",
    "sns.distplot(youtube_0_delta[youtube_0_delta['trending_gap']<=6]['views'],label='less than 5')\n",
    "sns.distplot(youtube_0_delta[youtube_0_delta['trending_gap']>6]['views'],label='more than 5')\n",
    "plt.legend()"
   ]
  },
  {
   "cell_type": "code",
   "execution_count": 33,
   "metadata": {},
   "outputs": [
    {
     "data": {
      "text/plain": [
       "<matplotlib.legend.Legend at 0x1a29ca08d0>"
      ]
     },
     "execution_count": 33,
     "metadata": {},
     "output_type": "execute_result"
    },
    {
     "data": {
      "image/png": "[encoded data removed]",
      "text/plain": [
       "<Figure size 432x288 with 1 Axes>"
      ]
     },
     "metadata": {
      "needs_background": "light"
     },
     "output_type": "display_data"
    }
   ],
   "source": [
    "sns.distplot(np.log(youtube_0_delta[youtube_0_delta['trending_gap']<=6]['views']),label='less than 5')\n",
    "sns.distplot(np.log(youtube_0_delta[youtube_0_delta['trending_gap']>6]['views']),label='more than 5')\n",
    "plt.legend()\n",
    "# data transformation with log to make it look normal"
   ]
  },
  {
   "cell_type": "code",
   "execution_count": 34,
   "metadata": {},
   "outputs": [
    {
     "data": {
      "text/plain": [
       "2.58207378995403"
      ]
     },
     "execution_count": 34,
     "metadata": {},
     "output_type": "execute_result"
    }
   ],
   "source": [
    "from scipy.stats import skew, kurtosis\n",
    "skew(youtube_0_delta[youtube_0_delta['trending_gap']>5]['views'])\n",
    "# if the skewness is between -0.5 to 0.5, data fairly simmetrical\n",
    "# if the skewness is between -1 to -0.5 or 0.5 to 1, data moderately simmetrical\n",
    "# else, the data are highly skewed"
   ]
  },
  {
   "cell_type": "code",
   "execution_count": 35,
   "metadata": {},
   "outputs": [
    {
     "data": {
      "text/plain": [
       "5.468330195083588"
      ]
     },
     "execution_count": 35,
     "metadata": {},
     "output_type": "execute_result"
    }
   ],
   "source": [
    "kurtosis(youtube_0_delta[youtube_0_delta['trending_gap']>5]['views'])\n",
    "# if the kurtosis is close to 0, normal distribution often assumed, called mesokurtic kurtosis\n",
    "# if the kurtosis is less than 0, the distribution has light tail, called platykurtic distribution\n",
    "# if the kurtosis is greater than zero, the distribution has heavy tail and called leptokurtic distribution"
   ]
  },
  {
   "cell_type": "code",
   "execution_count": 36,
   "metadata": {},
   "outputs": [
    {
     "data": {
      "image/png": "[encoded data removed]",
      "text/plain": [
       "<Figure size 432x288 with 1 Axes>"
      ]
     },
     "metadata": {
      "needs_background": "light"
     },
     "output_type": "display_data"
    },
    {
     "data": {
      "image/png": "[encoded data removed]",
      "text/plain": [
       "<Figure size 432x288 with 1 Axes>"
      ]
     },
     "metadata": {
      "needs_background": "light"
     },
     "output_type": "display_data"
    }
   ],
   "source": [
    "import statsmodels.api as sm\n",
    "import pylab\n",
    "\n",
    "sm.qqplot(youtube_0_delta[youtube_0_delta['trending_gap']<=5]['views'],line='45')\n",
    "plt.title('less than 5 no log')\n",
    "\n",
    "sm.qqplot(np.log(youtube_0_delta[youtube_0_delta['trending_gap']<=5]['views']),line='45')\n",
    "plt.title('less than 5 with log')\n",
    "pylab.show()        \n",
    "# using qq plot to check data normality, if the quantile folowing the red line, \n",
    "# it would be following normal distribution"
   ]
  },
  {
   "cell_type": "code",
   "execution_count": 37,
   "metadata": {},
   "outputs": [],
   "source": [
    "from scipy.stats import shapiro,normaltest,anderson\n",
    "def try_normal(data):\n",
    "    result = {'Anderson': {i:j for i,j in zip(anderson(data)[2],anderson(data)[1])},'Shapiro':shapiro(data)[1],\n",
    "              'K^2':normaltest(data)[1]}\n",
    "    result['Anderson']['stat'] = anderson(data)[0]\n",
    "    return result\n",
    "              "
   ]
  },
  {
   "cell_type": "code",
   "execution_count": 38,
   "metadata": {},
   "outputs": [
    {
     "data": {
      "text/plain": [
       "AndersonResult(statistic=12.268230660126463, critical_values=array([0.549, 0.625, 0.75 , 0.875, 1.041]), significance_level=array([15. , 10. ,  5. ,  2.5,  1. ]))"
      ]
     },
     "execution_count": 38,
     "metadata": {},
     "output_type": "execute_result"
    }
   ],
   "source": [
    "anderson(youtube_0_delta[youtube_0_delta['trending_gap']<=5]['views'])\n",
    "# Pada anderson, jika nilai stat<crit maka accept H0, normal dist/designated dist\n",
    "# else, data is not normal/designated dist"
   ]
  },
  {
   "cell_type": "code",
   "execution_count": 39,
   "metadata": {},
   "outputs": [
    {
     "data": {
      "text/plain": [
       "{'Anderson': {15.0: 0.549,\n",
       "  10.0: 0.625,\n",
       "  5.0: 0.75,\n",
       "  2.5: 0.875,\n",
       "  1.0: 1.041,\n",
       "  'stat': 12.268230660126463},\n",
       " 'Shapiro': 2.4342935436502677e-13,\n",
       " 'K^2': 4.1708894828819576e-12}"
      ]
     },
     "execution_count": 39,
     "metadata": {},
     "output_type": "execute_result"
    }
   ],
   "source": [
    "try_normal(youtube_0_delta[youtube_0_delta['trending_gap']<=5]['views'])\n",
    "# goodness fit of test\n",
    "# H0: Data mengikuti distribusi yg ditentukan\n",
    "# H1: tidak"
   ]
  },
  {
   "cell_type": "code",
   "execution_count": 40,
   "metadata": {},
   "outputs": [
    {
     "data": {
      "text/plain": [
       "(0.5788686275482178, 2.4342935436502677e-13)"
      ]
     },
     "execution_count": 40,
     "metadata": {},
     "output_type": "execute_result"
    }
   ],
   "source": [
    "shapiro(youtube_0_delta[youtube_0_delta['trending_gap']<=5]['views'])"
   ]
  },
  {
   "cell_type": "code",
   "execution_count": 41,
   "metadata": {},
   "outputs": [
    {
     "data": {
      "text/plain": [
       "{'Anderson': {15.0: 0.549,\n",
       "  10.0: 0.625,\n",
       "  5.0: 0.75,\n",
       "  2.5: 0.875,\n",
       "  1.0: 1.041,\n",
       "  'stat': 1.1011740884549113},\n",
       " 'Shapiro': 0.003916004206985235,\n",
       " 'K^2': 0.08029209427923203}"
      ]
     },
     "execution_count": 41,
     "metadata": {},
     "output_type": "execute_result"
    }
   ],
   "source": [
    "try_normal(np.log(youtube_0_delta[youtube_0_delta['trending_gap']<=5]['views']))"
   ]
  },
  {
   "cell_type": "code",
   "execution_count": 42,
   "metadata": {},
   "outputs": [
    {
     "data": {
      "text/plain": [
       "NormaltestResult(statistic=52.405783595233395, pvalue=4.1708894828819576e-12)"
      ]
     },
     "execution_count": 42,
     "metadata": {},
     "output_type": "execute_result"
    }
   ],
   "source": [
    "normaltest(youtube_0_delta[youtube_0_delta['trending_gap']<=5]['views'])"
   ]
  },
  {
   "cell_type": "code",
   "execution_count": 49,
   "metadata": {},
   "outputs": [
    {
     "name": "stdout",
     "output_type": "stream",
     "text": [
      "T-Statistic: -3.5368886849964043\n",
      "P-Value: 0.0005156295981268492\n"
     ]
    }
   ],
   "source": [
    "#H0 : Tidak ada perbedaan view saat trending gap <= 5 dan trending gap > 5\n",
    "from scipy.stats import ttest_ind\n",
    "result = list(ttest_ind(youtube_0_delta[youtube_0_delta['trending_gap'] <= 5]['views'], \n",
    "                        youtube_0_delta[youtube_0_delta['trending_gap'] > 5]['views'],))\n",
    "print('T-Statistic:', result[0])\n",
    "print('P-Value:', result[1])"
   ]
  },
  {
   "cell_type": "code",
   "execution_count": 46,
   "metadata": {},
   "outputs": [
    {
     "name": "stdout",
     "output_type": "stream",
     "text": [
      "T-Statistic: -4.719358908295347\n",
      "P-Value: 4.7540335185663935e-06\n"
     ]
    }
   ],
   "source": [
    "from scipy.stats import ttest_ind\n",
    "result = list(ttest_ind(np.log(youtube_0_delta[youtube_0_delta['trending_gap'] <= 5]['views']), \n",
    "                        np.log(youtube_0_delta[youtube_0_delta['trending_gap'] > 5]['views'])))\n",
    "print('T-Statistic:', result[0])\n",
    "print('P-Value:', result[1])"
   ]
  },
  {
   "cell_type": "code",
   "execution_count": 48,
   "metadata": {
    "code_folding": []
   },
   "outputs": [
    {
     "data": {
      "text/html": [
       "<div>\n",
       "<style scoped>\n",
       "    .dataframe tbody tr th:only-of-type {\n",
       "        vertical-align: middle;\n",
       "    }\n",
       "\n",
       "    .dataframe tbody tr th {\n",
       "        vertical-align: top;\n",
       "    }\n",
       "\n",
       "    .dataframe thead th {\n",
       "        text-align: right;\n",
       "    }\n",
       "</style>\n",
       "<table border=\"1\" class=\"dataframe\">\n",
       "  <thead>\n",
       "    <tr style=\"text-align: right;\">\n",
       "      <th></th>\n",
       "      <th>views</th>\n",
       "      <th>views</th>\n",
       "    </tr>\n",
       "  </thead>\n",
       "  <tbody>\n",
       "    <tr>\n",
       "      <td>views</td>\n",
       "      <td>1.000000</td>\n",
       "      <td>0.124438</td>\n",
       "    </tr>\n",
       "    <tr>\n",
       "      <td>views</td>\n",
       "      <td>0.124438</td>\n",
       "      <td>1.000000</td>\n",
       "    </tr>\n",
       "  </tbody>\n",
       "</table>\n",
       "</div>"
      ],
      "text/plain": [
       "          views     views\n",
       "views  1.000000  0.124438\n",
       "views  0.124438  1.000000"
      ]
     },
     "execution_count": 48,
     "metadata": {},
     "output_type": "execute_result"
    }
   ],
   "source": [
    "pd.concat([youtube_0_delta[youtube_0_delta['trending_gap'] <= 5]['views'].reset_index(drop = True), \n",
    "           youtube_0_delta[youtube_0_delta['trending_gap'] > 5]['views'].reset_index(drop =True)], axis =1).corr(\n",
    "    'spearman')"
   ]
  },
  {
   "cell_type": "code",
   "execution_count": 50,
   "metadata": {},
   "outputs": [
    {
     "data": {
      "text/plain": [
       "{'Bartlett': {'Bartlett-Stat': 313.1876287644693,\n",
       "  'P-Value': 4.4140015710994365e-70},\n",
       " 'Levene': {'Levene-Stat': 12.041938463505936,\n",
       "  'P-Value': 0.0006518145697354723}}"
      ]
     },
     "execution_count": 50,
     "metadata": {},
     "output_type": "execute_result"
    }
   ],
   "source": [
    "from scipy.stats import levene, bartlett\n",
    "\n",
    "#Bartlett and Levene are test to see if the both sample have equal variance or not.\n",
    "#Both test have H0: Equal Variance and H1: The Variance between the group is different\n",
    "\n",
    "#We use the Bartlett test if the samples are come from the Normal Distribution and Levene test if the sample are skewed or \n",
    "#deviate from the normal distribution \n",
    "\n",
    "def try_equal_var(x1,x2):\n",
    "    result = {'Bartlett': {'Bartlett-Stat' : bartlett(x1,x2)[0], 'P-Value': bartlett(x1,x2)[1] },\n",
    "             'Levene': {'Levene-Stat': levene(x1,x2)[0], 'P-Value': levene(x1,x2)[1]}}\n",
    "    return result\n",
    "try_equal_var(youtube_0_delta[youtube_0_delta['trending_gap'] <= 5]['views'], \n",
    "              youtube_0_delta[youtube_0_delta['trending_gap'] > 5]['views'])\n",
    "# Lavene equal(H0)\n",
    "# Bartlett H1"
   ]
  },
  {
   "cell_type": "code",
   "execution_count": 51,
   "metadata": {},
   "outputs": [
    {
     "name": "stdout",
     "output_type": "stream",
     "text": [
      "U-Statistic: 2267.0\n",
      "P-Value: 4.3859389096169557e-07\n"
     ]
    }
   ],
   "source": [
    "# Non-Parametric Test jika asumsi untuk Parametric Test tidak terpenuhi\n",
    "#mannwhitneyu test sebanding dengan independent t-test dalam artian melihat perbedaan satu kelompok dengan kelompok lainnya. \n",
    "\n",
    "from scipy.stats import mannwhitneyu\n",
    "result = list(mannwhitneyu(youtube_0_delta[youtube_0_delta['trending_gap'] <= 5]['views'], \n",
    "                        youtube_0_delta[youtube_0_delta['trending_gap'] > 5]['views']))\n",
    "print('U-Statistic:', result[0])\n",
    "print('P-Value:', result[1])\n",
    "\n",
    "#kasih batas confident, kalau 95% berarti batasnya 0.05 \n",
    "#<0.05 berarti H0 ditolak(ada perbedaan), lebih dari =>0.05 H0 tidak ditolak(tidak ada perbedaan)"
   ]
  },
  {
   "cell_type": "code",
   "execution_count": 52,
   "metadata": {},
   "outputs": [
    {
     "data": {
      "text/plain": [
       "<matplotlib.axes._subplots.AxesSubplot at 0x1c2e341d50>"
      ]
     },
     "execution_count": 52,
     "metadata": {},
     "output_type": "execute_result"
    },
    {
     "data": {
      "image/png": "[encoded data removed]",
      "text/plain": [
       "<Figure size 432x288 with 1 Axes>"
      ]
     },
     "metadata": {
      "needs_background": "light"
     },
     "output_type": "display_data"
    }
   ],
   "source": [
    "sns.barplot(data = youtube, x = 'category_id', y ='views')"
   ]
  },
  {
   "cell_type": "code",
   "execution_count": 53,
   "metadata": {},
   "outputs": [
    {
     "data": {
      "text/plain": [
       "<matplotlib.axes._subplots.AxesSubplot at 0x1c2e84dd50>"
      ]
     },
     "execution_count": 53,
     "metadata": {},
     "output_type": "execute_result"
    },
    {
     "data": {
      "image/png": "[encoded data removed]",
      "text/plain": [
       "<Figure size 432x288 with 1 Axes>"
      ]
     },
     "metadata": {
      "needs_background": "light"
     },
     "output_type": "display_data"
    }
   ],
   "source": [
    "sns.barplot(data = youtube, x = 'category_id', y ='likes')"
   ]
  },
  {
   "cell_type": "code",
   "execution_count": 54,
   "metadata": {},
   "outputs": [
    {
     "data": {
      "text/plain": [
       "<matplotlib.axes._subplots.AxesSubplot at 0x1c2e84ddd0>"
      ]
     },
     "execution_count": 54,
     "metadata": {},
     "output_type": "execute_result"
    },
    {
     "data": {
      "image/png": "[encoded data removed]",
      "text/plain": [
       "<Figure size 432x288 with 1 Axes>"
      ]
     },
     "metadata": {
      "needs_background": "light"
     },
     "output_type": "display_data"
    }
   ],
   "source": [
    "sns.barplot(data = youtube, x = 'category_id', y ='dislikes')"
   ]
  },
  {
   "cell_type": "code",
   "execution_count": null,
   "metadata": {},
   "outputs": [],
   "source": []
  }
 ],
 "metadata": {
  "hide_input": false,
  "kernelspec": {
   "display_name": "Python 3",
   "language": "python",
   "name": "python3"
  },
  "language_info": {
   "codemirror_mode": {
    "name": "ipython",
    "version": 3
   },
   "file_extension": ".py",
   "mimetype": "text/x-python",
   "name": "python",
   "nbconvert_exporter": "python",
   "pygments_lexer": "ipython3",
   "version": "3.7.4"
  },
  "varInspector": {
   "cols": {
    "lenName": 16,
    "lenType": 16,
    "lenVar": 40
   },
   "kernels_config": {
    "python": {
     "delete_cmd_postfix": "",
     "delete_cmd_prefix": "del ",
     "library": "var_list.py",
     "varRefreshCmd": "print(var_dic_list())"
    },
    "r": {
     "delete_cmd_postfix": ") ",
     "delete_cmd_prefix": "rm(",
     "library": "var_list.r",
     "varRefreshCmd": "cat(var_dic_list()) "
    }
   },
   "types_to_exclude": [
    "module",
    "function",
    "builtin_function_or_method",
    "instance",
    "_Feature"
   ],
   "window_display": false
  }
 },
 "nbformat": 4,
 "nbformat_minor": 2
}
